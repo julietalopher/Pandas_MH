{
 "cells": [
  {
   "cell_type": "markdown",
   "metadata": {},
   "source": [
    "# **Python para Ciencia de Datos: Matplotlib y Seaborn**\n",
    "\n",
    "___\n",
    "\n",
    "**Saúl Arciniega Esparza** | Ph.D. Profesor Asociado C Tiempo Completo\n",
    "\n",
    "* [Twitter](https://twitter.com/zaul_arciniega) | [LinkedIn](https://www.linkedin.com/in/saularciniegaesparza/) | [ResearchGate](https://www.researchgate.net/profile/Saul-Arciniega-Esparza)\n",
    "* [Hydrogeology Group](https://www.ingenieria.unam.mx/hydrogeology/), [Facultad de Ingeniería de la UNAM](https://www.ingenieria.unam.mx/)\n",
    "___\n",
    "\n",
    "### **Contenido**\n",
    "\n",
    "0. [Generación de gráficas](#Generación-de-gráficas)\n",
    "1. [Gráficas con Matplotlib](#1.-Gráficas-con-Matplotlib)\n",
    "    1. [Uso de **plot**](#1.1-Uso-de-plot())\n",
    "    2. [Estilos de líneas](#1.2-Cambiar-estilos-de-líneas)\n",
    "    3. [Modificar atributos de los ejes](#1.3-Modificar-atributos-de-los-ejes)\n",
    "    4. [Agregar leyenda](#1.4-Agregar-leyenda)\n",
    "    5. [Uso de **figure** y **subplots**](#1.5-Uso-de-figure()-y-subplots())\n",
    "    6. [Más propiedades de los ejes](#1.6-Más-propiedades-de-los-ejes)\n",
    "2. [Gráficas con Pandas](#2.-Gráficas-con-Pandas)\n",
    "    1. [Gráfica simple](#2.1-Gráfica-simple)\n",
    "    2. [Scatterplot](#2.2-Scatterplot)\n",
    "    3. [Gráfica de series temporales](#2.3-Gráfica-de-series-temporales)\n",
    "3. [Gráficas con Seaborn](#3.-Gráficas-con-Seaborn)\n",
    "    1. [Scatterplots](#3.1-Scatterplots)\n",
    "    2. [Boxplots](#3.2-Boxplots)\n",
    "    3. [Histogramas](#3.3-Histogramas)\n",
    "    4. [Regresión a elementos clasificados](#3.4-Regresión-a-elementos-clasificados)\n",
    "    5. [Correlación y dispersión](#3.5-Correlación-y-dispersión)"
   ]
  },
  {
   "cell_type": "markdown",
   "metadata": {},
   "source": [
    "___\n",
    "# Generación de gráficas\n",
    "\n",
    "[**Matplotlib**](https://matplotlib.org/) es la librería gráfica más polular dentro de Python y esta basada en la librería gráfica de **Matlab**, por lo que muchos comandos o funciones de Matplotlib tienen similitudes con las de Matlab.\n",
    "\n",
    "Adicionalmente trabajaremos con [**Seaborn**](https://seaborn.pydata.org/), una librería que extiende las funcionalidades de **Matplotlib** y permite generar gráficos complejos con poco código.\n",
    "\n",
    "Veremos en estos ejemplos cómo crear gráficos con Matplotlib,Pandas y Seaborn (estas dos últimas utilizan como base Matplotlib)."
   ]
  },
  {
   "cell_type": "code",
   "execution_count": null,
   "metadata": {},
   "outputs": [],
   "source": [
    "import numpy as np\n",
    "import pandas as pd\n",
    "\n",
    "import matplotlib.pyplot as plt\n",
    "import seaborn as sns\n",
    "\n",
    "# activa la creación de gráficas inline, auto\n",
    "%matplotlib inline"
   ]
  },
  {
   "cell_type": "markdown",
   "metadata": {},
   "source": [
    "___\n",
    "# 1. Gráficas con Matplotlib\n",
    "\n",
    "[Ir a Inicio](#Contenido)\n",
    "\n",
    "## 1.1 Uso de plot()"
   ]
  },
  {
   "cell_type": "code",
   "execution_count": null,
   "metadata": {},
   "outputs": [],
   "source": [
    "# Ejemplo sencillo con Matplotlib\n",
    "y = np.random.rand(30)\n",
    "\n",
    "plt.plot(y)"
   ]
  },
  {
   "cell_type": "code",
   "execution_count": null,
   "metadata": {},
   "outputs": [],
   "source": [
    "# Graficar x,y\n",
    "x = np.arange(10, 40)\n",
    "y = np.random.rand(30)\n",
    "\n",
    "plt.plot(x, y)"
   ]
  },
  {
   "cell_type": "code",
   "execution_count": null,
   "metadata": {},
   "outputs": [],
   "source": [
    "# Agregar múltiples gráficas en un mismo eje\n",
    "x = np.arange(10, 40)\n",
    "y = np.random.rand(30, 3)\n",
    "\n",
    "plt.plot(x, y[:,0])\n",
    "plt.plot(x, y[:,1])\n",
    "plt.plot(x, y[:,2])"
   ]
  },
  {
   "cell_type": "markdown",
   "metadata": {},
   "source": [
    "## 1.2 Cambiar estilos de líneas"
   ]
  },
  {
   "cell_type": "code",
   "execution_count": null,
   "metadata": {},
   "outputs": [],
   "source": [
    "# Cambiar estilos de las gráficas\n",
    "x = np.arange(10, 40)\n",
    "y = np.random.rand(30, 3)\n",
    "\n",
    "plt.plot(x, y[:,0], 'k')\n",
    "plt.plot(x, y[:,1], 'r--')\n",
    "plt.plot(x, y[:,2], 'go-')"
   ]
  },
  {
   "cell_type": "markdown",
   "metadata": {},
   "source": [
    "## 1.3 Modificar atributos de los ejes"
   ]
  },
  {
   "cell_type": "code",
   "execution_count": null,
   "metadata": {},
   "outputs": [],
   "source": [
    "# Agregar atributos a los ejes: etiquetas y titulo\n",
    "x = np.arange(10, 40)\n",
    "y = np.random.rand(30, 3)\n",
    "\n",
    "plt.plot(x, y[:,0], 'k')\n",
    "plt.plot(x, y[:,1], 'r--')\n",
    "plt.plot(x, y[:,2], 'go-')\n",
    "\n",
    "plt.xlabel('Fecha', fontsize=10)\n",
    "plt.ylabel('Caudal (m$^3$/s)', fontsize=12)\n",
    "plt.title('Grafica de ejemplo $\\geq$', fontsize=14)"
   ]
  },
  {
   "cell_type": "markdown",
   "metadata": {},
   "source": [
    "## 1.4 Agregar leyenda"
   ]
  },
  {
   "cell_type": "code",
   "execution_count": null,
   "metadata": {},
   "outputs": [],
   "source": [
    "# Agregar leyenda\n",
    "x = np.arange(10, 40)\n",
    "y = np.random.rand(30, 3)\n",
    "\n",
    "plt.plot(x, y[:,0], 'k')\n",
    "plt.plot(x, y[:,1], 'r--')\n",
    "plt.plot(x, y[:,2], 'go-')\n",
    "\n",
    "plt.legend(['Linea1', 'Q2', 'W3'], loc=2)"
   ]
  },
  {
   "cell_type": "code",
   "execution_count": null,
   "metadata": {},
   "outputs": [],
   "source": [
    "# Agregar etiquetas a las gráficas y agregar leyenda\n",
    "x = np.arange(10, 40)\n",
    "y = np.random.rand(30, 3)\n",
    "\n",
    "plt.plot(x, y[:,0], 'k', label='L1')\n",
    "plt.plot(x, y[:,1], 'r--', label='Q2')\n",
    "plt.plot(x, y[:,2], 'go-', label='W3')\n",
    "\n",
    "plt.legend(loc=2)"
   ]
  },
  {
   "cell_type": "markdown",
   "metadata": {},
   "source": [
    "## 1.5 Uso de figure() y subplots()"
   ]
  },
  {
   "cell_type": "code",
   "execution_count": null,
   "metadata": {},
   "outputs": [],
   "source": [
    "# Cear múltiples figuras para gráficar\n",
    "x = np.arange(10, 40)\n",
    "y = np.random.rand(30, 3)\n",
    "\n",
    "# Abrimos la primer figura\n",
    "plt.figure()\n",
    "plt.plot(x, y[:,0], 'k', label='L1')\n",
    "plt.plot(x, y[:,1], 'r--', label='Q2')\n",
    "\n",
    "# Abrimos una figura nueva\n",
    "plt.figure()\n",
    "plt.plot(x, y[:,2], 'go-', label='W3')"
   ]
  },
  {
   "cell_type": "markdown",
   "metadata": {},
   "source": [
    "En el caso anterior abrimos dos figuras diferentes y agregamos un gráfico a cada una, sin embargo, cuando requerimos generar gráficos en múltiples ejes es mejor hacerlo enla misma figura. Para agregar varios ejes a la misma figura usamos el comando **plt.subplot**"
   ]
  },
  {
   "cell_type": "code",
   "execution_count": null,
   "metadata": {},
   "outputs": [],
   "source": [
    "# Gráficas con subplot\n",
    "x = np.arange(10, 40)\n",
    "y = np.random.rand(30, 3)\n",
    "\n",
    "# abrimos nueva figura\n",
    "plt.figure()\n",
    "\n",
    "# Creamos tres ejes y los guardamos en variables\n",
    "ax1 = plt.subplot(2,2,1)\n",
    "ax3 = plt.subplot(2,2,3)\n",
    "ax4 = plt.subplot(2,2,4)\n",
    "\n",
    "# Ahora agregamos el contenido de cada eje\n",
    "ax1.plot(x, y[:,0], 'k', label='L1')\n",
    "ax3.plot(x, y[:,1], 'r--', label='Q2')\n",
    "ax4.plot(x, y[:,2], 'go-', label='W3')\n",
    "\n",
    "# Agregamos otras características a los ejes\n",
    "ax1.set_ylabel('Variable1')\n",
    "ax3.set_ylabel('Variable2-3')\n",
    "ax4.set_xlabel('Tiempo')"
   ]
  },
  {
   "cell_type": "code",
   "execution_count": null,
   "metadata": {},
   "outputs": [],
   "source": [
    "# Este ejemplo es parecido al anterior pero cambiamos la estructura de los ejes\n",
    "# Aqui generamos una figura con un arreglo de 3x1 ejes\n",
    "\n",
    "x = np.arange(10, 40)\n",
    "y = np.random.rand(30, 3)\n",
    "\n",
    "# abrimos nueva figura\n",
    "plt.figure()\n",
    "\n",
    "# Creamos tres ejes y los guardamos en variables\n",
    "ax1 = plt.subplot(3,1,1)\n",
    "ax2 = plt.subplot(3,1,2)\n",
    "ax3 = plt.subplot(3,1,3)\n",
    "\n",
    "# Ahora agregamos el contenido de cada eje\n",
    "ax1.plot(x, y[:,0], 'k', label='L1')\n",
    "ax2.plot(x, y[:,1], 'r--', label='Q2')\n",
    "ax3.plot(x, y[:,2], 'go-', label='W3')\n",
    "\n",
    "# Agregamos otras características a los ejes\n",
    "ax1.set_ylabel('Variable1')\n",
    "ax2.set_ylabel('Variable2-3')\n",
    "ax3.set_xlabel('Tiempo')"
   ]
  },
  {
   "cell_type": "markdown",
   "metadata": {},
   "source": [
    "## 1.6 Más propiedades de los ejes"
   ]
  },
  {
   "cell_type": "code",
   "execution_count": null,
   "metadata": {},
   "outputs": [],
   "source": [
    "# Edición de otras propiedades de los ejes\n",
    "\n",
    "lluvia = np.genfromtxt('./Datos/lluvia.csv', delimiter=',')\n",
    "\n",
    "# Creamos un objeto figura y eje al mismo tiempo con plt.subplots\n",
    "fig, ax = plt.subplots()\n",
    "\n",
    "# Agregamos una gáfica de barras\n",
    "ax.bar(lluvia[:,0], lluvia[:,1])\n",
    "# Activamos la división de la malla \n",
    "ax.grid(True)\n",
    "# Agregamos etiquetas de los ejes\n",
    "ax.set_xlabel('Tiempo (h)', fontsize=12)\n",
    "ax.set_ylabel('Precipitacion (mm)', fontsize=12)\n",
    "# Cambiamos los límites de los ejes\n",
    "ax.set_xlim([0, 6])\n",
    "ax.set_ylim([0, 16])\n",
    "# Editamos la numeración del eje x\n",
    "ax.set_xticks(np.arange(0, 7, 2));\n",
    "ax.set_xticklabels(['A', 'B', 'C', 'D'])"
   ]
  },
  {
   "cell_type": "markdown",
   "metadata": {},
   "source": [
    "# 2. Gráficas con Pandas\n",
    "\n",
    "[Ir a Inicio](#Contenido)\n",
    "\n",
    "Caundo generamos un DataFrame en [**Pandas**](https://pandas.pydata.org/docs/reference/api/pandas.DataFrame.plot.html) podemos realizar gráficas de forma muy sencilla accediendo al método **.plot()**.\n",
    "\n",
    "Cabe aclarar que **Pandas** utiliza **Matplotlib** para generar sus gráficas. Esto nos permite que podamos combiar métodos de **Matplotlib** para mejorar el estilo y visualización de las gráficas generadas con Pandas."
   ]
  },
  {
   "cell_type": "code",
   "execution_count": null,
   "metadata": {},
   "outputs": [],
   "source": [
    "# Importamos la serie\n",
    "s1 = pd.read_csv('./Datos/serie1.csv', index_col=[0], header=None, squeeze=True)\n",
    "s2 = pd.read_csv('./Datos/serie2.csv', index_col=[0], header=None,squeeze=True)\n",
    "df = pd.concat((s1,s2), axis=1)\n",
    "df.columns = ['P', 'AET']\n",
    "df.head()"
   ]
  },
  {
   "cell_type": "markdown",
   "metadata": {},
   "source": [
    "## 2.1 Gráfica simple"
   ]
  },
  {
   "cell_type": "code",
   "execution_count": null,
   "metadata": {},
   "outputs": [],
   "source": [
    "# Graficamos. Por defecto, el DataFrame utiliza el índice en X y grafica todas las variables en Y \n",
    "df.plot()"
   ]
  },
  {
   "cell_type": "code",
   "execution_count": null,
   "metadata": {
    "scrolled": true
   },
   "outputs": [],
   "source": [
    "# Podemos seleccionar cuál variable graficar\n",
    "df.plot(y='P')"
   ]
  },
  {
   "cell_type": "markdown",
   "metadata": {},
   "source": [
    "## 2.2 Scatterplot"
   ]
  },
  {
   "cell_type": "code",
   "execution_count": null,
   "metadata": {
    "scrolled": true
   },
   "outputs": [],
   "source": [
    "# Además, podemos seleccionar cuál variable usar como X y cuál como Y\n",
    "df.plot(x='P', y='AET')"
   ]
  },
  {
   "cell_type": "code",
   "execution_count": null,
   "metadata": {
    "scrolled": true
   },
   "outputs": [],
   "source": [
    "# Tal vez sea mejor graficar como scatterplot\n",
    "df.plot(x='P', y='AET', kind='scatter')"
   ]
  },
  {
   "cell_type": "markdown",
   "metadata": {},
   "source": [
    "## 2.3 Gráfica de series temporales\n",
    "\n",
    "Pandas es particularmente útil cuando trabajamos con fechas:"
   ]
  },
  {
   "cell_type": "code",
   "execution_count": null,
   "metadata": {},
   "outputs": [],
   "source": [
    "df = pd.read_csv('./Datos/Precipitacion_mm-d.csv', sep=',', index_col=[0], parse_dates=[0])\n",
    "df.head()"
   ]
  },
  {
   "cell_type": "code",
   "execution_count": null,
   "metadata": {},
   "outputs": [],
   "source": [
    "# Grafica diaria de las tres cuencas para el año 2000\n",
    "df.loc['2000-01-01':'2000-12-31', :].plot()"
   ]
  },
  {
   "cell_type": "code",
   "execution_count": null,
   "metadata": {},
   "outputs": [],
   "source": [
    "# Hagamos una mejor representación de lo anterior\n",
    "\n",
    "fig = plt.figure(figsize=(10, 10))\n",
    "\n",
    "ax1 = plt.subplot(3,1,1)\n",
    "ax2 = plt.subplot(3,1,2) \n",
    "ax3 = plt.subplot(3,1,3)\n",
    "\n",
    "# En Pandas así se indica el eje en el que queremos graficar\n",
    "df.loc['2000-01-01':'2000-12-31',:].plot(y='1', ax=ax1, legend=False, color='k')  \n",
    "df.loc['2000-01-01':'2000-12-31',:].plot(y='2', ax=ax2, legend=False, color='b')\n",
    "df.loc['2000-01-01':'2000-12-31',:].plot(y='3', ax=ax3, legend=False, color='g')\n",
    "\n",
    "ax1.set_ylabel('Lluvia (mm)')\n",
    "ax2.set_ylabel('Lluvia (mm)')\n",
    "ax3.set_ylabel('Lluvia (mm)')\n",
    "\n",
    "ax3.set_xlabel('Fecha');\n"
   ]
  },
  {
   "cell_type": "markdown",
   "metadata": {},
   "source": [
    "# 3. Gráficas con Seaborn\n",
    "\n",
    "[Ir a Inicio](#Contenido)\n",
    "\n",
    "[**Seaborn**](https://seaborn.pydata.org/) es una potente librería de gráficos estadísticos, basado en Matplotlib, pero que simplifica mucho la generación de gráficas muy ponentes."
   ]
  },
  {
   "cell_type": "code",
   "execution_count": null,
   "metadata": {},
   "outputs": [],
   "source": [
    "# Importamos la serie\n",
    "s1 = pd.read_csv('./Datos/serie1.csv', index_col=[0], header=None, squeeze=True)\n",
    "s2 = pd.read_csv('./Datos/serie2.csv', index_col=[0], header=None,squeeze=True)\n",
    "df = pd.concat((s1,s2), axis=1)\n",
    "df.columns = ['P', 'AET']\n",
    "\n",
    "# Clasificar por tipo de clima\n",
    "mask = df[\"P\"] > df[\"P\"].mean()\n",
    "df[\"Clima\"] = \"Seco\"\n",
    "df.loc[mask, \"Clima\"] = \"Humedo\""
   ]
  },
  {
   "cell_type": "markdown",
   "metadata": {},
   "source": [
    "## 3.1 Scatterplots"
   ]
  },
  {
   "cell_type": "code",
   "execution_count": null,
   "metadata": {},
   "outputs": [],
   "source": [
    "# Scatterplot clasificado\n",
    "sns.scatterplot(x=\"P\", y=\"AET\", hue=\"Clima\", size=\"P\", data=df)"
   ]
  },
  {
   "cell_type": "markdown",
   "metadata": {},
   "source": [
    "## 3.2 Boxplots"
   ]
  },
  {
   "cell_type": "code",
   "execution_count": null,
   "metadata": {},
   "outputs": [],
   "source": [
    "# Comparación de boxplot por tipo de clima\n",
    "sns.boxplot(x=\"Clima\", y=\"P\", data=df)"
   ]
  },
  {
   "cell_type": "markdown",
   "metadata": {},
   "source": [
    "## 3.3 Histogramas"
   ]
  },
  {
   "cell_type": "code",
   "execution_count": null,
   "metadata": {},
   "outputs": [],
   "source": [
    "# Histogramas clasificados\n",
    "g = sns.FacetGrid(df, col=\"Clima\")\n",
    "g.map(sns.distplot, \"P\", kde=False, bins=10)"
   ]
  },
  {
   "cell_type": "markdown",
   "metadata": {},
   "source": [
    "## 3.4 Regresión a elementos clasificados"
   ]
  },
  {
   "cell_type": "code",
   "execution_count": null,
   "metadata": {},
   "outputs": [],
   "source": [
    "# Regresion lineal clasificada\n",
    "sns.lmplot(x=\"P\", y=\"AET\", hue=\"Clima\", data=df, ci=None)"
   ]
  },
  {
   "cell_type": "code",
   "execution_count": null,
   "metadata": {},
   "outputs": [],
   "source": [
    "# Regresion lineal clasificada en diferenes ejes\n",
    "sns.lmplot(x=\"P\", y=\"AET\", col=\"Clima\", data=df, ci=None)"
   ]
  },
  {
   "cell_type": "code",
   "execution_count": null,
   "metadata": {},
   "outputs": [],
   "source": [
    "# Grafica densidad y correlacion\n",
    "sns.jointplot(\"P\", \"AET\", data=df, kind=\"scatter\")"
   ]
  },
  {
   "cell_type": "markdown",
   "metadata": {},
   "source": [
    "## 3.5 Correlación y dispersión"
   ]
  },
  {
   "cell_type": "code",
   "execution_count": null,
   "metadata": {},
   "outputs": [],
   "source": [
    "# Grafica de correlacion y dispersion\n",
    "sns.pairplot(df.dropna())"
   ]
  },
  {
   "cell_type": "code",
   "execution_count": null,
   "metadata": {},
   "outputs": [],
   "source": [
    "# Grafica de correlacion y dispersion clasificada\n",
    "sns.pairplot(df.dropna(), hue=\"Clima\")"
   ]
  },
  {
   "cell_type": "code",
   "execution_count": null,
   "metadata": {},
   "outputs": [],
   "source": [
    "# Grafica de correlacion y dispersion clasificada con regresion\n",
    "sns.pairplot(df.dropna(), hue=\"Clima\", kind=\"reg\")"
   ]
  }
 ],
 "metadata": {
  "kernelspec": {
   "display_name": "Python 3 (ipykernel)",
   "language": "python",
   "name": "python3"
  },
  "language_info": {
   "codemirror_mode": {
    "name": "ipython",
    "version": 3
   },
   "file_extension": ".py",
   "mimetype": "text/x-python",
   "name": "python",
   "nbconvert_exporter": "python",
   "pygments_lexer": "ipython3",
   "version": "3.9.10"
  }
 },
 "nbformat": 4,
 "nbformat_minor": 4
}
