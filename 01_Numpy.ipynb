{
 "cells": [
  {
   "cell_type": "markdown",
   "metadata": {},
   "source": [
    "# **Python para Ciencia de Datos: Numpy**\n",
    "\n",
    "___\n",
    "\n",
    "**Saúl Arciniega Esparza** | Ph.D. Profesor Asociado C Tiempo Completo\n",
    "\n",
    "* [Twitter](https://twitter.com/zaul_arciniega) | [LinkedIn](https://www.linkedin.com/in/saularciniegaesparza/) | [ResearchGate](https://www.researchgate.net/profile/Saul-Arciniega-Esparza)\n",
    "* [Hydrogeology Group](https://www.ingenieria.unam.mx/hydrogeology/), [Facultad de Ingeniería de la UNAM](https://www.ingenieria.unam.mx/)\n",
    "___\n",
    "\n",
    "### **Contenido**\n",
    "\n",
    "0. [Librería numpy](#Librería-numpy)\n",
    "1. [Creando arrays](#1.-Creando-arrays)\n",
    "    1. [Dimensiones y forma de un array](#1.1-Dimensiones-y-forma-de-un-array)\n",
    "    2. [Arreglos de más de dos dimensiones](#1.2-Arreglos-de-más-de-dos-dimensiones)\n",
    "    3. [Diferencias entre una lista y un array](#1.3-Diferencias-entre-una-lista-y-un-array)\n",
    "2. [Métodos de numpy](#2.-Métodos-de-numpy)\n",
    "3. [Operaciones algebráicas con arrays](#3.-Operaciones-algebráicas-con-arrays)\n",
    "4. [Índices de arrays](#4.-Indices-de-arrays)\n",
    "    1. [Índices de arrays de 1 dimensión](#4.1-Indices-de-arrays-de-1-dimension)\n",
    "    2. [Índices de arrays de 2 dimensiones](#4.2-Indices-de-arrays-de-2-dimensiones)\n",
    "    3. [Índices de arrays multi-dimensiones](#4.3-Indice-de-arrays-de-más-de-dos-dimensiones)\n",
    "    4. [Llamando elementos con el método **take**](#4.4-Llamando-elementos-con-el-método-take())\n",
    "    5. [Reemplazar valores en un array](#4.5-Reemplazar-valores-en-un-array)\n",
    "5. [Manipulando forma de arrays](#5.-Manipulando-forma-de-arrays)\n",
    "    1. [Agregando renglones a un array](#5.1-Agregando-renglones-a-un-array)\n",
    "    2. [Agregando columnas a un array](#5.2-Agregando-columnas-a-un-array)\n",
    "    3. [Eliminar renglones y columnas de un array](#5.3-Eliminar-renglones-y-columnas-de-un-array)\n",
    "6. [Crear arrays usando métodos de numpy](#6.-Crear-arrays-usando-métodos-de-numpy)\n",
    "    1. [Crear matrices de coordenadas](#6.1-Crear-matrices-de-coordenadas)\n",
    "7. [Estadísticos con numpy](#7.-Estadísticos)\n",
    "8. [Crear funciones](#8.-Crear-funciones)\n",
    "9. [Estructuras de control](#9.-Estructuras-de-contol)\n",
    "    1. [Condicionales](#9.1-Condicionales)\n",
    "    2. [Condicionales múltiples](#9.2-Condicionales-múltiples)\n",
    "    3. [Ciclo **For**](#9.3-Ciclo-For)"
   ]
  },
  {
   "cell_type": "markdown",
   "metadata": {},
   "source": [
    "___\n",
    "# Librería numpy\n",
    "\n",
    "[Ir a inicio](#Contenido)\n",
    "\n",
    "[NumPy](https://numpy.org/) es una librería que agrega un mayor soporte para vectores y matrices en Python (similar a Matlab), constituyendo una biblioteca de funciones matemáticas de alto nivel.\n",
    "\n",
    "Para trabajar con numpy primero tenemos que importarlo:"
   ]
  },
  {
   "cell_type": "code",
   "execution_count": null,
   "metadata": {},
   "outputs": [],
   "source": [
    "import numpy as np"
   ]
  },
  {
   "cell_type": "markdown",
   "metadata": {},
   "source": [
    "___\n",
    "## 1. Creando arrays\n",
    "\n",
    "[Ir a inicio](#Contenido)\n",
    "\n",
    "Numpy tiene un tipo de objeto propio llamado **array** (aunque también tiene otro objeto llamado **matrix**), que se maneja similar a las listas, pero mucho más potente para análisis numérico.\n",
    "Para crear un array simplemente usamos:"
   ]
  },
  {
   "cell_type": "code",
   "execution_count": null,
   "metadata": {
    "scrolled": true
   },
   "outputs": [],
   "source": [
    "lista = [1, 2, 4]        # lista\n",
    "array = np.array(lista)  # convertir lista a array\n",
    "\n",
    "print(lista)\n",
    "print(array)"
   ]
  },
  {
   "cell_type": "code",
   "execution_count": null,
   "metadata": {},
   "outputs": [],
   "source": [
    "lista"
   ]
  },
  {
   "cell_type": "markdown",
   "metadata": {},
   "source": [
    "Podemos verificar el tipo de objeto:"
   ]
  },
  {
   "cell_type": "code",
   "execution_count": null,
   "metadata": {},
   "outputs": [],
   "source": [
    "print(type(lista))\n",
    "print(type(array))"
   ]
  },
  {
   "cell_type": "markdown",
   "metadata": {},
   "source": [
    "Adicionalmente podemos ver el tipo de variable que almacena el array:"
   ]
  },
  {
   "cell_type": "code",
   "execution_count": null,
   "metadata": {},
   "outputs": [],
   "source": [
    "print(array.dtype)\n",
    "print(type(array[0]))  # extraer el primer elemento"
   ]
  },
  {
   "cell_type": "markdown",
   "metadata": {},
   "source": [
    "como podemos observar, np.array() asignó por defecto un elemento entero de 32 bits que no existe originalmente en python. Para definir un tipo de dato especifico podemos ingresar un argumento adicional:"
   ]
  },
  {
   "cell_type": "code",
   "execution_count": null,
   "metadata": {
    "scrolled": true
   },
   "outputs": [],
   "source": [
    "array1 = np.array(lista, dtype=int)         # definir un array de enteros\n",
    "array2 = np.array(lista, dtype=float)       # definir un array de flotantes\n",
    "array3 = np.array(lista, dtype=np.int16)    # definir un array de enteros de 16 bits\n",
    "array4 = np.array(lista, dtype=np.int32)    # definir un array de enteros de 32 bits\n",
    "array5 = np.array(lista, dtype=np.float16)  # definir un array de flotantes de 16 bits\n",
    "array6 = np.array(lista, dtype=np.float32)  # definir un array de flotantes de 32 bits\n",
    "array7 = np.array(lista, dtype=np.float64)  # definir un array de flotantes de 64 bits\n",
    "\n",
    "print('Imprimir tipo de datos')\n",
    "print(array1.dtype)\n",
    "print(array2.dtype)\n",
    "print(array3.dtype)\n",
    "print(array4.dtype)\n",
    "print(array5.dtype)\n",
    "print(array6.dtype)\n",
    "print(array7.dtype)\n",
    "\n",
    "print('Imprimir tipo de primer elemento')\n",
    "print(type(array1[0]))\n",
    "print(type(array2[0]))\n",
    "print(type(array3[0]))\n",
    "print(type(array4[0]))\n",
    "print(type(array5[0]))\n",
    "print(type(array6[0]))\n",
    "print(type(array7[0]))"
   ]
  },
  {
   "cell_type": "markdown",
   "metadata": {},
   "source": [
    "### 1.1 Dimensiones y forma de un array\n",
    "Los arrays tienen dos propiedades que nos permiten conocer las dimensiones y el numero de renglones y columnas (en el caso de un array de 2 dimensiones):"
   ]
  },
  {
   "cell_type": "code",
   "execution_count": null,
   "metadata": {},
   "outputs": [],
   "source": [
    "np.array([1, 2, 3, 4], dtype=float).shape"
   ]
  },
  {
   "cell_type": "code",
   "execution_count": null,
   "metadata": {
    "scrolled": true
   },
   "outputs": [],
   "source": [
    "# vector renglon de 1 dimension\n",
    "array1 = np.array([1, 2, 3, 4], dtype=float)\n",
    "# vector renglon de 2 dimensiones\n",
    "array2 = np.array([[1, 2, 3, 4]], dtype=float)\n",
    "# vector columna de 2 dimensiones\n",
    "array3 = np.array([[1], [2], [3], [4]], dtype=float)\n",
    "# matriz de 2x2 de 2 dimensiones\n",
    "array4 = np.array([[1, 2], [3, 4]], dtype=float)\n",
    "# matriz de 3x2 de 2 dimensiones\n",
    "array5 = np.array([[1, 2], [3, 4], [5, 6]], dtype=float)\n",
    "\n",
    "print('array1')\n",
    "print(array1)\n",
    "print('array2')\n",
    "print(array2)\n",
    "print('array3')\n",
    "print(array3)\n",
    "print('array4')\n",
    "print(array4)\n",
    "print('array5')\n",
    "print(array5)"
   ]
  },
  {
   "cell_type": "code",
   "execution_count": null,
   "metadata": {},
   "outputs": [],
   "source": [
    "# Para ver las dimensiones y la forma de cada array\n",
    "print('array1  dimensiones:', array1.ndim, ' forma:', array1.shape)\n",
    "print('array2  dimensiones:', array2.ndim, ' forma:', array2.shape)\n",
    "print('array3  dimensiones:', array3.ndim, ' forma:', array3.shape)\n",
    "print('array4  dimensiones:', array4.ndim, ' forma:', array4.shape)\n",
    "print('array5  dimensiones:', array5.ndim, ' forma:', array5.shape)"
   ]
  },
  {
   "cell_type": "markdown",
   "metadata": {},
   "source": [
    "### 1.2 Arreglos de más de dos dimensiones\n",
    "En la mayoría de los casos se analizarán arreglos de 1 o 2 dimensiones, sin embargo para propósitos de percepción remota es común que se tengan 3 o hasta 4 dimensiones que representan el tiempo y alguna capa (suelo, atmosfera, etc)."
   ]
  },
  {
   "cell_type": "code",
   "execution_count": null,
   "metadata": {},
   "outputs": [],
   "source": [
    "# Para definir un arreglo de 3 dimensiones supongamos que tenemos\n",
    "# las siguientes listas\n",
    "l1 = [[1, 2], [3, 4]]\n",
    "l2 = [[5, 6], [7, 8]]\n",
    "l3 = [[9, 10], [11, 12]]\n",
    "l4 = [[13, 14], [15, 16]]\n",
    "\n",
    "# ahora transformemos matirces de distintas dimensiones\n",
    "array1 = np.array(l1)            # matrix de 2x2 de 2 dimensiones\n",
    "array2 = np.array([l1, l2])      # matrix de 2x2x2 de 3 dimensiones\n",
    "array3 = np.array([l1, l2, l3])  # matrix de 3x2x2 de 3 dimensiones\n",
    "array4 = np.array([[l1, l2], [l3, l4]])  # matrix de 2x2x2x2 de 4 dimensiones\n",
    "\n",
    "print('Imprimir matrices')\n",
    "print('Matriz de 2x2')\n",
    "print(array1)\n",
    "print('Matriz de 2x2x2')\n",
    "print(array2)\n",
    "print('Matriz de 3x2x2')\n",
    "print(array3)\n",
    "print('Matriz de 2x2x2x2')\n",
    "print(array4)\n",
    "\n",
    "print('Imprimir dimensiones')\n",
    "print('array1  dimensiones:', array1.ndim, ' forma:', array1.shape)\n",
    "print('array2  dimensiones:', array2.ndim, ' forma:', array2.shape)\n",
    "print('array3  dimensiones:', array3.ndim, ' forma:', array3.shape)\n",
    "print('array4  dimensiones:', array4.ndim, ' forma:', array4.shape)"
   ]
  },
  {
   "cell_type": "markdown",
   "metadata": {},
   "source": [
    "### 1.3 Diferencias entre una lista y un array\n",
    "La diferencia principal entre los array de numpy y las listas, es que los arrays nos permite realizar operaciones algebráicas directamente, mientas que con las listas tendrámos que utilizar comprension de listas o la función map."
   ]
  },
  {
   "cell_type": "code",
   "execution_count": null,
   "metadata": {
    "scrolled": true
   },
   "outputs": [],
   "source": [
    "lista = [1, 2, 3, 4]\n",
    "array = np.array(lista)\n",
    "\n",
    "# multiplicar cada elemento por 3\n",
    "print([x * 3 for x in lista])        # lista metodo 1\n",
    "print(list(map(lambda x: x * 3, lista)))  # lista metodo 2\n",
    "# lista metodo 3\n",
    "resultado = []\n",
    "for x in lista:\n",
    "    resultado.append(x * 3)\n",
    "print(resultado)\n",
    "\n",
    "# Ahora con un array\n",
    "print(array * 3)\n",
    "\n",
    "# LOS ARRAYS NOS PERMITEN REALIZAR OPERACIONES DIRECTAMENTE!"
   ]
  },
  {
   "cell_type": "markdown",
   "metadata": {},
   "source": [
    "___\n",
    "## 2. Métodos de numpy\n",
    "\n",
    "[Ir a inicio](#Contenido)\n",
    "\n",
    "[**Numpy**](https://numpy.org/) tiene una enorme cantidad de funciones estadísticas, algebráicas, manipulación y creación, entre otras. No se pueden abarcar todas ellas, pero la aplicación de alguas de ellas se muestra a continuación:\n",
    "\n",
    "Para la explicación supóngase que se ha definido un array\n",
    "\n",
    "```python\n",
    "a = np.random.rand(3, 4)\n",
    "```\n",
    "\n",
    "| Método | Descripción |\n",
    "| :-: | :- |\n",
    "| a.shape | Devuelve una tupla con el numero de elementos por dimension|\n",
    "| a.ndim | Devuelve el numero de dimensiones del array |\n",
    "| a.size | Devuelve el numero de elementos en todo el array |\n",
    "| a.T | Devuelve la transpuesta del array |\n",
    "| a.transpose() | Devuelve la transpuesta del array pero permite indicar la dimension sobre la cual transponer los datos|\n",
    "| a.argmax() | Devuelve el índice del elemento con el valor máximo en el array |\n",
    "| a.argmin() | Devuelve el índice del elemento con el valor mínimo del array |\n",
    "| a.argsort() | Devuelve los índices de los elementos ordenados de menor a mayor |\n",
    "| a.astype() | Realiza una copia profunda del array a permitiendo cambiar el tipo de los datos |\n",
    "| a.copy() | Realiza una copia profunda del array |\n",
    "| a.cumprod() | Realiza el producto acumulado |\n",
    "| a.cumsum() | Realiza la suma acumulada |\n",
    "| a.diagonal() | Obtiene la diagonal principal (por defecto, pero se puede cambiar) |\n",
    "| a.dot() | Obtiene el producto punto con respecto otro array |\n",
    "| a.flatten() | Convierte el array a un array de una sola dimension |\n",
    "| a.sum() | Obtiene la suma del array |\n",
    "| a.max() | Obtiene el valor máximo |\n",
    "| a.min() | Obtiene el valor mínimo |\n",
    "| a.mean() | Obtiene el promedio |\n",
    "| a.var() | Obtiene la varianza |\n",
    "| a.std() | Obtiene la desviación estándar |\n",
    "| a.nonzero() | Devuelve un array de booleanos con verdadero para todos aquellos valores diferentes a 0 |\n",
    "| a.reshape() | Cambia la forma de una array |\n",
    "| a.round() | Redondea los elementos del array a un número específico de decimales |\n",
    "| a.take() | Obtiene un valor del array ingresando el índice del elemento |\n",
    "| np.abs(a) | Calcula valor absoluto de los elementos de a |\n",
    "| np.array(a) | construye un array a partir de una lista o una tupla |\n",
    "| np.nan | Objeto propio de numpy que define un No Numero y se utiliza para indicar elementos sin datos |\n",
    "| np.polyfit() | Genera un ajuste con regresión lineal |\n",
    "| np.gemfromtxt() | Leer un archivo delimitado como un array |\n",
    "| np.savetxt() | Escribe un archivo delimitado con datos de un array |\n",
    "| np.vstack() | Agrega renglones a un array |\n",
    "| np.hstack() | Agregar columnas a un array |\n",
    "| np.where() | Regresa los renglones y columnas de boolenos verdaderos de un array o lista |\n",
    "| np.isnan() | Regresa un array de booleanos con True para aquellos valores np.nan |\n",
    "| np.delete() | Elimina un renglon o columna de un array |\n",
    "| np.arange() | Similar a **range**, se utiliza para generar vectores con valores crecientes o decrecientes |\n",
    "| np.meshgrid() | Regresa matrices de coordenadas a partir de arrays de coordenadas |\n",
    "| np.linspace() | Crea un array con valores que van de un valor inicial a uno final, pero en lugar de indicar el elemento se ingresa el número de vértices |"
   ]
  },
  {
   "cell_type": "code",
   "execution_count": null,
   "metadata": {
    "scrolled": true
   },
   "outputs": [],
   "source": [
    "# Para mostrar la aplicación de algunas funciones tenemos deinido\n",
    "# el array\n",
    "a = np.random.rand(3, 4)\n",
    "\n",
    "print(a.max())     # obtener el maximo\n",
    "print(a.round(2))  # redondear a 2 decimales\n",
    "print(np.log(a))   # logaritmo natural"
   ]
  },
  {
   "cell_type": "markdown",
   "metadata": {},
   "source": [
    "___\n",
    "## 3. Operaciones algebráicas con arrays\n",
    "\n",
    "[Ir a inicio](#Contenido)"
   ]
  },
  {
   "cell_type": "code",
   "execution_count": null,
   "metadata": {},
   "outputs": [],
   "source": [
    "# Si tenemos definidas dos arrays\n",
    "array1 = np.array([2, 4, 6, 8], dtype=float)\n",
    "array2 = np.array([5, 6, 0.5, 1], dtype=float)\n",
    "\n",
    "# Ahora veamos varias operaciones algebaricas\n",
    "# obviamente para que funcionen array1 y array2 deben de tener la misma forma (shape)\n",
    "print(array1 + array2)   # suma \n",
    "print(array1 - array2)   # resta\n",
    "print(array1 * array2)   # multiplicacion\n",
    "print(array1 ** array2)  # potencia\n",
    "print(array1 / array2)   # division\n",
    "print(array1 + 3.0)      # suma de una constante  \n",
    "print(array1 - 3.0)      # resta de una constante\n",
    "print(array1 * 3.0)      # multiplicacion por unaconstante\n",
    "print(array1 ** 3.0)     # potencia con una constante\n",
    "print(array1 / 3.0)      # division por una constante"
   ]
  },
  {
   "cell_type": "markdown",
   "metadata": {},
   "source": [
    "Se debe de tener cuidao con divisiones con numeros enteros en Python 2.7, por lo que para análisis numérico conviene siempre usar arrays con tipo de datos flotante:"
   ]
  },
  {
   "cell_type": "code",
   "execution_count": null,
   "metadata": {},
   "outputs": [],
   "source": [
    "# por ejemplo definamos el array\n",
    "array1 = np.array([1, 2, 3, 4])  # por defecto los define como enteros\n",
    "\n",
    "print(array1 / 5)   # division por una constante\n",
    "\n",
    "print(array1 / 5.0)  # al usar la constante como flotante soluciona nuestro problema\n",
    "\n",
    "# pero la mayoría del tiempo es mejor usar el array con números flotantes\n",
    "# para convertir un array de un tipo de datos a otro podemos usar .astype()\n",
    "array2 = array1.astype(float)  # copia profunda del array1 pero como flotantes\n",
    "\n",
    "print(array2 / 5)"
   ]
  },
  {
   "cell_type": "markdown",
   "metadata": {},
   "source": [
    "___\n",
    "## 4. Indices de arrays\n",
    "\n",
    "[Ir a inicio](#Contenido)\n",
    "\n",
    "Para llamar elementos de un array se utiliza una sintaxis similar a la de una lista:"
   ]
  },
  {
   "cell_type": "code",
   "execution_count": null,
   "metadata": {},
   "outputs": [],
   "source": [
    "# Supongamos que tenemos definidas las siguientes variables\n",
    "lista1 = [1, 2, 3, 4]\n",
    "lista2 = [[1, 3], [4, 6], [5, 9]]\n",
    "\n",
    "# ahora pasemos las listas a arrays\n",
    "array1 = np.array(lista1)  # 1 dimension\n",
    "array2 = np.array(lista2)  # 2 dimensiones\n",
    "array3 = np.array([array2, array2 / 2.0])  # 3 dimensiones\n",
    "array4 = np.array([[array2, array2 / 2.0], [array2 / 3.0, array2 / 4.0]])  # 4 dimensiones\n",
    "\n",
    "print('Arrays definidos')\n",
    "print(array1)\n",
    "print(array2)\n",
    "print(array3)\n",
    "print(array4)"
   ]
  },
  {
   "cell_type": "markdown",
   "metadata": {},
   "source": [
    "### 4.1 Indices de arrays de 1 dimension\n",
    "Este es el caso más sencillo y funcionan igual que con una lista:"
   ]
  },
  {
   "cell_type": "code",
   "execution_count": null,
   "metadata": {
    "scrolled": true
   },
   "outputs": [],
   "source": [
    "print('Ejemplo con lista')\n",
    "print(lista1[0])  # primer valor\n",
    "print(lista1[1])  # segundo valor\n",
    "print(lista1[-1])  # ultimo valor\n",
    "print(lista1[1:3]) # segundo a tercer valor\n",
    "\n",
    "print('Ejemplo con array')\n",
    "print(array1[0])  # primer valor\n",
    "print(array1[1])  # segundo valor\n",
    "print(array1[-1])  # ultimo valor\n",
    "print(array1[1:3]) # segundo a tercer valor\n",
    "\n",
    "# Una caracteristica interesante de los arrays es que podemos insertar una lista o un array de enteros\n",
    "# para llamas varios valores, cosa que no se puede en las listas\n",
    "print(array1[[1, 2]])  # segundo y tercer elemento\n",
    "print(array1[[0, -1]])  # primer y ultimo elemento\n",
    "print(array1[[0, 0, 0]])  # incluso podemos llamar al mismo elemento varias veces\n",
    "\n",
    "print(array1[np.array([0, -1], dtype=int)])  # podemos usar arrays con enteros como indices"
   ]
  },
  {
   "cell_type": "markdown",
   "metadata": {},
   "source": [
    "### 4.2 Indices de arrays de 2 dimensiones\n",
    "Cuando tenemos dos dimensiones y queremos llamar un conjunto de elementos en un array debemos considerar que ahora tenemos que hacer referencia tanto al renglon como a la columna:"
   ]
  },
  {
   "cell_type": "code",
   "execution_count": null,
   "metadata": {},
   "outputs": [],
   "source": [
    "# Primero veamos como funciona en un lista\n",
    "print('Listas')\n",
    "print(lista2[0])  # asi llamamos al primer renglon\n",
    "print(lista2[1])  # asi llamamos al segundo renglon\n",
    "print(lista2[0][0]) # asi llamamos al primer elemento del segundo renglon\n",
    "print(lista2[1][0]) # primer elemento del segundo renglon\n",
    "\n",
    "# Ahora veamos con el array\n",
    "print('Arrays')\n",
    "print(array2[0])  # primer renglon\n",
    "print(array2[1])  # segundo renglon\n",
    "# Adicionalmente en los arrays podemos usar dos puntos (:) para seleccionar ya sea todo el renglon o la columna\n",
    "print(array2[0, :])  # primer renglon\n",
    "print(array2[1, :])  # segundo renglon\n",
    "print(array2[:, 0])  # primera columna\n",
    "print(array2[:, 1])  # segunda columna\n",
    "\n",
    "# NOTA: cuando se llama un renglon o una columna se debe de tener en cuenta que el resultado es un\n",
    "# array de 1 dimension!\n",
    "\n",
    "# Ahora pasemos a extraer un elemento en especifico\n",
    "print('Elementos en arrays')\n",
    "print(array2[0][0]) # primer elemento del segundo renglon\n",
    "print(array2[1][0]) # primer elemento del segundo renglon\n",
    "# o de manera alternativa\n",
    "print(array2[0, 0]) # primer elemento del segundo renglon\n",
    "print(array2[1, 0]) # primer elemento del segundo renglon"
   ]
  },
  {
   "cell_type": "markdown",
   "metadata": {},
   "source": [
    "### 4.3 Indice de arrays de más de dos dimensiones\n",
    "Para entender cómo llamar elementos en arrays multidimensionales se debe tener claro cómo están estructurados, por ejemplo, un array de 3 dimensiones se estructura como **matriz**x**renglon**x**columna**"
   ]
  },
  {
   "cell_type": "code",
   "execution_count": null,
   "metadata": {},
   "outputs": [],
   "source": [
    "# Probemos el array de 3 dimensiones\n",
    "print('array3[0]')\n",
    "print(array3[0])  # vemos que llamamos a la primer matriz que ingresamos\n",
    "print('array3[1]')\n",
    "print(array3[1])  # segunda matriz"
   ]
  },
  {
   "cell_type": "code",
   "execution_count": null,
   "metadata": {},
   "outputs": [],
   "source": [
    "# Ahora que sucede si incrementamos otra dimension\n",
    "print('array3[0, 0]')\n",
    "print(array3[0, 0])  # primer renglon de la primer matriz\n",
    "print('array3[1, 2]')\n",
    "print(array3[1, 2])  # tercer renglon de la segunda matriz\n",
    "\n",
    "# lo anterior se puede escribir de igual manera como\n",
    "print('array3[0, 0, :]')\n",
    "print(array3[0, 0, :])  # primer renglon de la primer matriz\n",
    "print('array3[1, 2, :]')\n",
    "print(array3[1, 2, :])  # tercer renglon de la segunda matriz"
   ]
  },
  {
   "cell_type": "code",
   "execution_count": null,
   "metadata": {},
   "outputs": [],
   "source": [
    "# Que pasa si queremos llamar a toda una columna? en este caso tenemos que usar :\n",
    "print('array3[0, :, 0]')\n",
    "print(array3[0, :, 0])  # primer columna de primer matriz\n",
    "print('array3[1, :, 1]')\n",
    "print(array3[1, :, 1])  # segunda columna de primer matriz"
   ]
  },
  {
   "cell_type": "code",
   "execution_count": null,
   "metadata": {},
   "outputs": [],
   "source": [
    "# Ahora para llamar a un elemento en especifico debemos considerar la sintaxis\n",
    "# array[matriz, renglon, columna]\n",
    "print(array3)\n",
    "print('array3[0, 0, 0]')\n",
    "print(array3[0, 0, 0])  # primer elemento de la primer matriz\n",
    "print('array3[0, 1, 0]')\n",
    "print(array3[0, 1, 0])  # primer matriz, segundo renglon, primer columna\n",
    "print('array3[1, 2, 1]')\n",
    "print(array3[1, 2, 1])  # segunda matriz, tercer renglon, segunda columna"
   ]
  },
  {
   "cell_type": "code",
   "execution_count": null,
   "metadata": {},
   "outputs": [],
   "source": [
    "# Para el caso de array de 4 dimensiones simplemente se extiende el numero de indices a ingresar,\n",
    "# recordando que los dos ultimos corresponden al renglon y a la columna\n",
    "# la sintaxis es array[matriz_renglon, matriz_columna, renglon, columna]\n",
    "print(array4)\n",
    "print('array4[0, 0, 0, 0]')\n",
    "print(array4[0, 0, 0, 0])  # primer elemento de la matriz del primer renglon de la primer columna\n",
    "print('array4[:, 0, :, :]')\n",
    "print(array4[:, 0, :, :])  # con esto extraemos todas las matrices de la primer columna"
   ]
  },
  {
   "cell_type": "markdown",
   "metadata": {},
   "source": [
    "### 4.4 Llamando elementos con el método take()\n",
    "Python reproduce una propiedad de las matrices de Matlab mediante el uso del indice del elemento y no el renglón y columna"
   ]
  },
  {
   "cell_type": "code",
   "execution_count": null,
   "metadata": {},
   "outputs": [],
   "source": [
    "# definamos un array como\n",
    "d = np.array([[0, 1, 2], [3, 4, 5]])\n",
    "\n",
    "print(d.take(0))  # equivale a d[0, 0]\n",
    "print(d.take(1))  # equivale a d[0, 1]\n",
    "print(d.take(2))  # equivale a d[1, 0]\n",
    "print(d.take(3))  # equivale a d[1, 1]\n",
    "\n",
    "print(d.take([0, 2, 1])) # tambien se puede usar una lista o un array\n",
    "# para llamar varios elementos"
   ]
  },
  {
   "cell_type": "markdown",
   "metadata": {},
   "source": [
    "### 4.5 Reemplazar valores en un array"
   ]
  },
  {
   "cell_type": "code",
   "execution_count": null,
   "metadata": {},
   "outputs": [],
   "source": [
    "d = np.random.rand(4, 5)\n",
    "\n",
    "print(d)\n",
    "\n",
    "d[0, 0] = 2  # reemplazar primer elemento\n",
    "print('\\n')\n",
    "print(d)\n",
    "\n",
    "d[0, :] = 2  # reemplazar todos los valores del primer reenglon\n",
    "print('\\n')\n",
    "print(d)\n",
    "\n",
    "d[:, [0, 1]] = 1  # reemplazar la primer y segunda columa\n",
    "print('\\n')\n",
    "print(d)\n",
    "\n",
    "d[0, :] = [1, 2, 3, 4, 5]  # reemplazar los valores del primer renglon\n",
    "print('\\n')\n",
    "print(d)\n",
    "\n",
    "d[:, 3] = [1, 2, 3, 4]  # reemplazar los valores del cuarto renglon\n",
    "print('\\n')\n",
    "print(d)\n",
    "\n",
    "d[1:3, 0:2] = [[10, 20], [30, 40]]  # reemplazar los valores del primer renglon\n",
    "print('\\n')\n",
    "print(d)"
   ]
  },
  {
   "cell_type": "markdown",
   "metadata": {},
   "source": [
    "___\n",
    "## 5. Manipulando forma de arrays\n",
    "\n",
    "[Ir a Inicio](#Contenido)\n",
    "\n",
    "Para ciertos casos es necesario cambiar las dimensiones o la forma de un array para poder aplicar alguna operación algebráica o para aplicar algún método. Numpy permite cambiar la forma y el numero de dimensiones de un array con varios comandos: **reshape**, **flatten**, **transpose**."
   ]
  },
  {
   "cell_type": "code",
   "execution_count": null,
   "metadata": {},
   "outputs": [],
   "source": [
    "# Si se tiene definido el siguiente la siguiente lista\n",
    "lista = range(1, 21)  # lista de 1 a 20\n",
    "\n",
    "array = np.array(lista)  # convertir a array de 1 dimension\n",
    "print(len(array))  # numero de elementos del array\n",
    "\n",
    "print('Uso de reshape')\n",
    "print('array de 1x20')\n",
    "print(array.reshape((1, 20)))\n",
    "print('array de 20x1')\n",
    "print(array.reshape((20, 1)))\n",
    "print('array de 2x10')\n",
    "print(array.reshape((2, 10)))\n",
    "print('array de 4x5')\n",
    "print(array.reshape((4, 5)))\n",
    "print('array de 2x5x2')\n",
    "print(array.reshape((2, 5, 2)))"
   ]
  },
  {
   "cell_type": "markdown",
   "metadata": {},
   "source": [
    "### 5.1 Agregando renglones a un array"
   ]
  },
  {
   "cell_type": "code",
   "execution_count": null,
   "metadata": {},
   "outputs": [],
   "source": [
    "# si se tiene definidas 3 arrays de 1 dimension\n",
    "d1 = np.random.rand(4)\n",
    "d2 = np.random.rand(4)\n",
    "d3 = np.random.rand(4)\n",
    "\n",
    "print('Arrays originales')\n",
    "print(d1)\n",
    "print(d2)\n",
    "print(d3)\n",
    "\n",
    "# concatenando arrays\n",
    "d = np.vstack((d1, d2))  # agrega a d2 debajo de d1\n",
    "print('d1 + d2')\n",
    "print(d)\n",
    "d = np.vstack((d, d3))  # agrega a d3 debajo de d\n",
    "print('d + d3')\n",
    "print(d)"
   ]
  },
  {
   "cell_type": "markdown",
   "metadata": {},
   "source": [
    "### 5.2 Agregando columnas a un array\n",
    "Este caso es un poco más complicado porque se debe de tener un vector columna para poder concatenar una columna con un array"
   ]
  },
  {
   "cell_type": "code",
   "execution_count": null,
   "metadata": {},
   "outputs": [],
   "source": [
    "# si se tiene definidas 3 arrays de 1 dimension\n",
    "d1 = np.random.rand(4)\n",
    "d2 = np.random.rand(4)\n",
    "d3 = np.random.rand(4)\n",
    "\n",
    "print('Arrays originales')\n",
    "print(d1)\n",
    "print(d2)\n",
    "print(d3)\n",
    "\n",
    "# concatenando arrays\n",
    "n = d1.size  # numero de elementos\n",
    "d = np.hstack((d1.reshape((n, 1)), d2.reshape((n, 1))))  # agrega a d2\n",
    "# debajo de d1\n",
    "print('d1 + d2')\n",
    "print(d)\n",
    "d = np.hstack((d, d3.reshape((n, 1))))  # agrega a d3 debajo de d\n",
    "print('d + d3')\n",
    "print(d)\n",
    "\n",
    "# Cuando se tienen dos arrays con el mismo numero de renglones\n",
    "# se pueden concatenar directamente\n",
    "d4 = np.random.rand(4, 2)\n",
    "d = np.hstack((d, d4))\n",
    "print('d + d4')\n",
    "print(d)"
   ]
  },
  {
   "cell_type": "markdown",
   "metadata": {},
   "source": [
    "### 5.3 Eliminar renglones y columnas de un array"
   ]
  },
  {
   "cell_type": "code",
   "execution_count": null,
   "metadata": {},
   "outputs": [],
   "source": [
    "# Si se tiene definido un array\n",
    "d = np.random.rand(5, 4)\n",
    "print('Original')\n",
    "print(d)\n",
    "\n",
    "# Eliminar un renglon\n",
    "print('\\n')\n",
    "print(np.delete(d, 0, axis=0))  # eliminar primer renglon\n",
    "print('\\n')\n",
    "print(np.delete(d, 0, axis=1))  # eliminar primer columna\n",
    "print('\\n')\n",
    "print(np.delete(d, [0, 3], axis=1))  # eliminar primer y cuarta columna\n"
   ]
  },
  {
   "cell_type": "markdown",
   "metadata": {},
   "source": [
    "___\n",
    "## 6. Crear arrays usando métodos de numpy\n",
    "\n",
    "[Ir a Inicio](#Contenido)\n",
    "\n",
    "Frecuentemente es necesario crear arrays con ciertos valores, ya sea para probar algún código o para almacenar resultados en la variable, para ello numpy cuenta con funciones que nos permiten crear arrays definiendo únicamente la forma del array:"
   ]
  },
  {
   "cell_type": "code",
   "execution_count": null,
   "metadata": {},
   "outputs": [],
   "source": [
    "print(np.zeros((3, 2), dtype=float))  # crea un array de 3x2 de ceros (flotantes)\n",
    "print(np.ones((2, 2), dtype=int))     # crea un array de 2x2 de unos (enteros)\n",
    "print(np.full((2, 3, 2), 2.0))        # crea un array de 2x3x2 relleno de 2 flotantes\n",
    "print(np.eye(3))                      # crea un array de 3x3 cuya diagonal principal contiene 1\n",
    "print(np.random.rand(2, 3))           # crea un array de 2x3 relleno de numeros aletorios de 0 a 1\n",
    "print(np.random.rand(4))              # crea un array de 1 dimension con 4 numeros aletorios de 0 a 1\n",
    "print(np.random.rand(2, 3, 4))        # crea un array de 2x3x4 relleno de numeros aletorios de 0 a 1"
   ]
  },
  {
   "cell_type": "code",
   "execution_count": null,
   "metadata": {},
   "outputs": [],
   "source": [
    "# Adicionalmente existen algunos métodos que nos permiten crear arrays con las mismas dimensiones que\n",
    "# un array existente\n",
    "array1 = np.random.rand(3, 4)  # array de 3x4 de numeros aleatorios\n",
    "\n",
    "array2 = np.zeros_like(array1)     # copia las dimensiones de array1 para crear un array de 0\n",
    "array3 = np.ones_like(array1)      # copia las dimensiones de array1 para crear un array de 1\n",
    "array4 = np.full_like(array1, 3.)  # copia las dimensiones de array1 para crear un array de 3.0\n",
    "\n",
    "print(array1)\n",
    "print(array2)\n",
    "print(array3)\n",
    "print(array4)"
   ]
  },
  {
   "cell_type": "code",
   "execution_count": null,
   "metadata": {},
   "outputs": [],
   "source": [
    "# Para generar arrays con valores con un incremento/decremento constante\n",
    "# podemos usar el comando np.arange de forma similar a range\n",
    "inicio = 1\n",
    "final = 10\n",
    "incremento = 0.5\n",
    "array1 = np.arange(inicio, final + incremento, incremento)\n",
    "array1"
   ]
  },
  {
   "cell_type": "code",
   "execution_count": null,
   "metadata": {},
   "outputs": [],
   "source": [
    "# una de las ventajas de np.arange sobre range es que podemos utilizar\n",
    "# incrementos negativos\n",
    "array = np.arange(10, 1 - 0.5, -0.5)\n",
    "array"
   ]
  },
  {
   "cell_type": "code",
   "execution_count": null,
   "metadata": {},
   "outputs": [],
   "source": [
    "# se debe de tener en cuenta que la mayoría de las funciones de numpy tienen\n",
    "# el parametro dtype para seleccionar el tipo de datos\n",
    "d1 = np.arange(1, 30, 3, dtype=int)\n",
    "d2 = np.arange(1, 30, 3, dtype=float)\n",
    "\n",
    "print(d1)\n",
    "print(d2)"
   ]
  },
  {
   "cell_type": "code",
   "execution_count": null,
   "metadata": {},
   "outputs": [],
   "source": [
    "# la forma mas simple de usar np.arange es indicando unicamente el\n",
    "# valor final y por defecto inicia en cero con un incremento de 1\n",
    "np.arange(11)"
   ]
  },
  {
   "cell_type": "markdown",
   "metadata": {},
   "source": [
    "### 6.1 Crear matrices de coordenadas\n",
    "Uno de los comandos más útiles para crear arreglos de coordenadas es meshgrid:"
   ]
  },
  {
   "cell_type": "code",
   "execution_count": null,
   "metadata": {},
   "outputs": [],
   "source": [
    "# Si se tienen definidos dos arreglos, uno de longitudes y otro de latitudes\n",
    "lon = np.linspace(-99, -101, 5)  # array que va de -101 a -99 con 20 vertices\n",
    "lat = np.linspace(24, 26, 10)  # array que va de 25 a 26 con 30 vertices\n",
    "\n",
    "X, Y = np.meshgrid(lat, lon)\n",
    "print(X.round(3))\n",
    "print('\\n')\n",
    "print(Y.round(3))"
   ]
  },
  {
   "cell_type": "markdown",
   "metadata": {},
   "source": [
    "___\n",
    "## 7. Estadísticos\n",
    "\n",
    "[Ir a Inicio](#Contenido)\n",
    "\n",
    "Para la estimación de los estadísticos de un array se deben de contemplar varios puntos:\n",
    " - **Dimension sobre la cual se ejecutan las operaciones**. En este caso es necesario utilizar el parametro opcional **axis**."
   ]
  },
  {
   "cell_type": "code",
   "execution_count": null,
   "metadata": {},
   "outputs": [],
   "source": [
    "# Suponiendo que se tiene definido un array de 2 dimensiones\n",
    "array = np.random.rand(10, 4)\n",
    "print(array)\n",
    "\n",
    "# que sucede si se ejecuta un comando estadistico sin ningun parametro adicional\n",
    "print('Promedio')\n",
    "print(array.mean())  # o tambien se puede usar np.mean()\n",
    "# en el caso anterior se obtuvo el promedio de TODO el array\n",
    "\n",
    "# para obtener el estadistico ya sea por renglones o columnas se debe de utilizar el parametro adicional axis\n",
    "print('Promedio por columnas')\n",
    "print(array.mean(axis=0)) # calcula el promedio por columnas\n",
    "print('Promedio por renglones')\n",
    "print(array.mean(axis=1)) # calcula el promedio por renglones"
   ]
  },
  {
   "cell_type": "code",
   "execution_count": null,
   "metadata": {},
   "outputs": [],
   "source": [
    "# El caso anterior aplica para el resto de los metodos estadisticos\n",
    "print('Suma por columnas')\n",
    "print(array.sum(axis=0))\n",
    "print('Maximo por renglones')\n",
    "print(array.max(axis=1))\n",
    "print('Suma acumulada por renglones')\n",
    "print(array.cumsum(axis=1))\n",
    "print('Suma acumulada por columnas')\n",
    "print(array.cumsum(axis=0))"
   ]
  },
  {
   "cell_type": "code",
   "execution_count": null,
   "metadata": {},
   "outputs": [],
   "source": [
    "# Que pasa ahora si tenemos un arary de 3 dimensiones\n",
    "array = np.random.rand(3, 2, 4)  # array de 3x2x4\n",
    "print(array)\n",
    "\n",
    "# ahora el estadistico de todos los elementos\n",
    "print('Promedio general')\n",
    "print(array.mean())\n",
    "print('Promedio por matriz')\n",
    "print(array.mean(axis=0))  # promedio de cada elemento en todas los arrays\n",
    "print('Promedio por columna')\n",
    "print(array.mean(axis=1))  # promedio por columna en cada matriz\n",
    "print('Promedio por renglon')\n",
    "print(array.mean(axis=2))  # promedio por renglon en cada matriz\n",
    "\n",
    "# Si queremos operar unicamente en una matriz la llamamos con su correspondiente indice\n",
    "print('Promedio matriz 0')\n",
    "print(array[0].mean(axis=0))"
   ]
  },
  {
   "cell_type": "markdown",
   "metadata": {},
   "source": [
    "- **Presencia de nans**. Para ese caso es necesario hacer uso de funciones espaciales que ignoran la ocurrencia de nans."
   ]
  },
  {
   "cell_type": "code",
   "execution_count": null,
   "metadata": {},
   "outputs": [],
   "source": [
    "# Supongamos que tenemos un array dado por\n",
    "array = np.random.rand(4, 5)\n",
    "array[[1, 2 , 3], [0, 3, 2]] = np.nan\n",
    "print(array)\n",
    "\n",
    "# Ahora tratemos de obtener el promedio del array\n",
    "print('Promedio por columna')\n",
    "print(array.mean(axis=0))"
   ]
  },
  {
   "cell_type": "markdown",
   "metadata": {},
   "source": [
    "Como se observó en el ejemplo, cuando hay presencia de nans, los estadísticos estimados se toman como nans. Para evitarlo, se requieren funciones especiales de numpy, como: np.nanmean(), np.nanmin(), np.nanmax, etc. La mayoría de los estadísticos tienen alguna variante con nan que ayuda a prevenir los problemas:"
   ]
  },
  {
   "cell_type": "code",
   "execution_count": null,
   "metadata": {},
   "outputs": [],
   "source": [
    "# Supongamos que tenemos un array dado por\n",
    "array = np.random.rand(4, 5)\n",
    "array[[1, 2 , 3], [0, 3, 2]] = np.nan\n",
    "print(array)\n",
    "\n",
    "# Ahora tratemos de obtener el promedio del array\n",
    "print('Promedio por columna')\n",
    "print(np.nanmean(array, axis=0))\n",
    "print('Maximo por columna')\n",
    "print(np.nanmax(array, axis=0))\n",
    "print('Desviacion estandar por columna')\n",
    "print(np.nanstd(array, axis=0))"
   ]
  },
  {
   "cell_type": "markdown",
   "metadata": {},
   "source": [
    "___\n",
    "## 8. Crear funciones\n",
    "\n",
    "[Ir a Inicio](#Contenido)\n",
    "\n",
    "Cuando se crean funciones para que trabajen con arrays es necesario considerar que se verifique el tipo de objeto que se ingresa a la función y convertir a arrays en caso de no ser de ese tipo, por ejemplo:"
   ]
  },
  {
   "cell_type": "code",
   "execution_count": null,
   "metadata": {},
   "outputs": [],
   "source": [
    "def suma(x, y):\n",
    "    # covertir objetos a arrays numpy\n",
    "    if not isinstance(x, np.ndarray):\n",
    "        x = np.array(x)\n",
    "    if not isinstance(y, np.ndarray):\n",
    "        y = np.array(y)\n",
    "    return x + y\n",
    "\n",
    "# Evaluar funcion\n",
    "suma([1, 4, 5], [-2, 3, 2])"
   ]
  },
  {
   "cell_type": "markdown",
   "metadata": {},
   "source": [
    "___\n",
    "## 9. Estructuras de contol\n",
    "\n",
    "[Ir a Inicio](#Contenido)"
   ]
  },
  {
   "cell_type": "code",
   "execution_count": null,
   "metadata": {},
   "outputs": [],
   "source": [
    "# Si tenemos definida un array\n",
    "array = np.random.rand(4, 3)\n",
    "\n",
    "# Ahora aplicamos una condicion\n",
    "cond = array > 0.5\n",
    "\n",
    "cond"
   ]
  },
  {
   "cell_type": "markdown",
   "metadata": {},
   "source": [
    "Vemos en el ejemplo anterior que cuando se aplica una condición a un array obtenemos una array de booleanos. Este tipo de arrays es muy util para obtener los valores que cumplen cierta condicion, por ejemplo:"
   ]
  },
  {
   "cell_type": "code",
   "execution_count": null,
   "metadata": {},
   "outputs": [],
   "source": [
    "array[cond]"
   ]
  },
  {
   "cell_type": "markdown",
   "metadata": {},
   "source": [
    "### 9.1 Condicionales\n",
    "Se debe tener claro que las condicionales sólo aceptan un True o False, mientras que un array almacena una serie de boolenos. "
   ]
  },
  {
   "cell_type": "code",
   "execution_count": null,
   "metadata": {},
   "outputs": [],
   "source": [
    "array = np.random.rand(4, 3)\n",
    "\n",
    "# Ahora aplicamos una condicion\n",
    "cond = array > 0.5\n",
    "\n",
    "print('Array de booleanos')\n",
    "print(cond)\n",
    "print('Verificar si al menos existe un verdadero en el array ')\n",
    "print(cond.any())\n",
    "print('Verificar si todos los booleanos son verdaderos')\n",
    "print(cond.all())\n",
    "print('Invertir el valor de los booleanos')\n",
    "print(~cond)\n",
    "print('Sumar numero de elementos verdadero')\n",
    "print(cond.sum())"
   ]
  },
  {
   "cell_type": "markdown",
   "metadata": {},
   "source": [
    "Ahora que sabemos lo anterior podemos establecer condicionales:"
   ]
  },
  {
   "cell_type": "code",
   "execution_count": null,
   "metadata": {},
   "outputs": [],
   "source": [
    "array = np.random.rand(4, 5)\n",
    "\n",
    "if (array > 0.98).any():\n",
    "    print('Al menos algun elemento es mayor a 0.98')\n",
    "elif np.sum(array<0.5) >= 2:\n",
    "    print('Al menos 2 elementos son menores a 0.5')\n",
    "else:\n",
    "    print('Ninguno de los casos anteriores')"
   ]
  },
  {
   "cell_type": "markdown",
   "metadata": {},
   "source": [
    "### 9.2 Condicionales múltiples\n",
    "Cuando de arrays se trata se puede aplicar operadores áramúltiples condicionales:\n",
    "\n",
    "| Operador | Descrpción |\n",
    "| :-: | :- |\n",
    "| & | Verifica si el booleano con el mismo indice es verdadero en dos diferenes arrays |\n",
    "|  | Verifica si almenos un booleano con el mismo indice es verdadero en dos diferenes arrays |\n",
    "| ~ | Invierte el valor de los boolanos en un array |\n"
   ]
  },
  {
   "cell_type": "code",
   "execution_count": null,
   "metadata": {},
   "outputs": [],
   "source": [
    "array = np.random.rand(4, 5)\n",
    "array"
   ]
  },
  {
   "cell_type": "code",
   "execution_count": null,
   "metadata": {},
   "outputs": [],
   "source": [
    "# verificar datos que estan en el rango 0.2 a 0.8\n",
    "(array > 0.2) & (array < 0.8)"
   ]
  },
  {
   "cell_type": "code",
   "execution_count": null,
   "metadata": {},
   "outputs": [],
   "source": [
    "# verificar datos que estan fuera del rango 0.2 a 0.8\n",
    "(array < 0.2) | (array > 0.8)"
   ]
  },
  {
   "cell_type": "code",
   "execution_count": null,
   "metadata": {},
   "outputs": [],
   "source": [
    "# verificar si almenos un elemento esta fuera del rango 0.2 a 0.8\n",
    "((array < 0.2) | (array > 0.8)).any()"
   ]
  },
  {
   "cell_type": "markdown",
   "metadata": {},
   "source": [
    "### 9.3 Ciclo For\n",
    "El ciclo for es sumamente útil cuando de arrays se trata, ya que nos permite realizar iteraciones sobre sus elementos.\n",
    "Aunque en la mayoría de los casos realizar iteraciones en arrays es más lento que realizar operaciones binarias, en ocaciones será impresindible el uso de ciclos."
   ]
  },
  {
   "cell_type": "markdown",
   "metadata": {},
   "source": [
    "- **Iterando por renglón y columna**:"
   ]
  },
  {
   "cell_type": "code",
   "execution_count": null,
   "metadata": {},
   "outputs": [],
   "source": [
    "array = np.random.rand(4, 5)\n",
    "r, c = array.shape  # obener renglones y columnas\n",
    "\n",
    "for i in range(r):\n",
    "    for j in range(c):\n",
    "        print('Columna: {}, Renglon: {}, Valor: {}'.format(i, j, array[i, j]))"
   ]
  },
  {
   "cell_type": "markdown",
   "metadata": {},
   "source": [
    "- **Iterando por renglón**:"
   ]
  },
  {
   "cell_type": "code",
   "execution_count": null,
   "metadata": {},
   "outputs": [],
   "source": [
    "array = np.random.rand(4, 5)\n",
    "r, c = array.shape  # obener renglones y columnas\n",
    "\n",
    "for i in range(r):\n",
    "    print('Renglon: {}'.format(i))\n",
    "    print(array[i, :])"
   ]
  },
  {
   "cell_type": "markdown",
   "metadata": {},
   "source": [
    "- **Iterando por columna**:"
   ]
  },
  {
   "cell_type": "code",
   "execution_count": null,
   "metadata": {
    "scrolled": true
   },
   "outputs": [],
   "source": [
    "array = np.random.rand(4, 5)\n",
    "r, c = array.shape  # obener renglones y columnas\n",
    "\n",
    "for j in range(c):\n",
    "    print('Columna: {}'.format(j))\n",
    "    print(array[:, j])"
   ]
  }
 ],
 "metadata": {
  "kernelspec": {
   "display_name": "Python 3 (ipykernel)",
   "language": "python",
   "name": "python3"
  },
  "language_info": {
   "codemirror_mode": {
    "name": "ipython",
    "version": 3
   },
   "file_extension": ".py",
   "mimetype": "text/x-python",
   "name": "python",
   "nbconvert_exporter": "python",
   "pygments_lexer": "ipython3",
   "version": "3.9.10"
  }
 },
 "nbformat": 4,
 "nbformat_minor": 4
}
