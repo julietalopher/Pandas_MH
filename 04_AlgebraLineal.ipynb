{
 "cells": [
  {
   "cell_type": "markdown",
   "id": "f764462f-e8e2-4bb1-b567-4c15c4ceed84",
   "metadata": {},
   "source": [
    "# **Algebra lineal con Numpy**\n",
    "\n",
    "___\n",
    "\n",
    "**Saúl Arciniega Esparza** | Ph.D. Profesor Asociado C Tiempo Completo\n",
    "\n",
    "* [Twitter](https://twitter.com/zaul_arciniega) | [LinkedIn](https://www.linkedin.com/in/saularciniegaesparza/) | [ResearchGate](https://www.researchgate.net/profile/Saul-Arciniega-Esparza)\n",
    "* [Hydrogeology Group](https://www.ingenieria.unam.mx/hydrogeology/), [Facultad de Ingeniería de la UNAM](https://www.ingenieria.unam.mx/)\n",
    "___\n",
    "\n",
    "\n",
    "En Python, el uso de **loops** puede representar un mayor tiempo de cómputo que el uso de de vectorización, esto es, conviene aplicar operaciones matriciales directamente con la librería de Numpy.\n",
    "\n",
    "Para la aplicación de muchos algoritmos de algebra lineal debemos utilizar el submódulo [linalg](https://numpy.org/doc/stable/reference/routines.linalg.html) dentro de la librería de Numpy."
   ]
  },
  {
   "cell_type": "code",
   "execution_count": null,
   "id": "65451b7c-f8ef-4671-9cac-1ccfbba37ce5",
   "metadata": {},
   "outputs": [],
   "source": [
    "import numpy as np\n",
    "from numpy import linalg"
   ]
  },
  {
   "cell_type": "code",
   "execution_count": null,
   "id": "9bce3ff9-4c9a-4fe3-8b16-57d83ea34e28",
   "metadata": {
    "tags": []
   },
   "outputs": [],
   "source": [
    "array1 = np.array([[1,2,3],[4,5,6],[7,8,9]])\n",
    "array1"
   ]
  },
  {
   "cell_type": "code",
   "execution_count": null,
   "id": "9d6bf096-9544-4790-9740-9fd093f7a043",
   "metadata": {},
   "outputs": [],
   "source": [
    "array2 = np.array([[9,8,7],[6,5,4],[3,2,1]])\n",
    "array2"
   ]
  },
  {
   "cell_type": "markdown",
   "id": "9c838ee3-21e3-412e-9544-cda8eaf803c3",
   "metadata": {},
   "source": [
    "## Operaciones elemento por elemento\n",
    "\n",
    "Cuando necesitamos operar los elementos de un arreglo, con los elementos de otro arreglo con las mismas dimensiones (o con un escalar), podemos aplicar directamente los operadores matemáticos en Python sin ningún cambio.\n"
   ]
  },
  {
   "cell_type": "markdown",
   "id": "a46afa1d-37e0-4c83-88ba-435ac3c069e0",
   "metadata": {},
   "source": [
    "- Multiplicación elemento por elemento:\n",
    "\n",
    "Por ejemplo, queremos realizar la operación elemento por elemento de dos arreglos, si lo quisieramos hacer de forma manual sería:"
   ]
  },
  {
   "cell_type": "code",
   "execution_count": null,
   "id": "f315b3a4-7af1-4bdd-becd-26df4038048d",
   "metadata": {},
   "outputs": [],
   "source": [
    "def multiplicacion_elementos(m1, m2):\n",
    "    res = np.zeros_like(m1)\n",
    "    for i in range(m1.shape[0]):\n",
    "        for j in range(m1.shape[1]):\n",
    "            res[i,j] = m1[i,j] * m2[i,j]\n",
    "    return res\n",
    "\n",
    "multiplicacion_elementos(array1, array2)"
   ]
  },
  {
   "cell_type": "markdown",
   "id": "074c0b90-1d48-4cd0-b7a9-f9ef017b55a8",
   "metadata": {},
   "source": [
    "La forma simplificada de hacer lo anterior es:"
   ]
  },
  {
   "cell_type": "code",
   "execution_count": null,
   "id": "9a134464-32ba-4e28-87e5-fba13646bad4",
   "metadata": {
    "tags": []
   },
   "outputs": [],
   "source": [
    "array1 * array2"
   ]
  },
  {
   "cell_type": "markdown",
   "id": "9423d757-f74c-4550-a2dc-c664c8270a1a",
   "metadata": {},
   "source": [
    "Lo anterior es una simplificación de utilizar *np.multiply*"
   ]
  },
  {
   "cell_type": "code",
   "execution_count": null,
   "id": "4023c42a-c710-4ad7-8e4b-2507ee414d1d",
   "metadata": {
    "tags": []
   },
   "outputs": [],
   "source": [
    "np.multiply(array1, array2)"
   ]
  },
  {
   "cell_type": "markdown",
   "id": "9bafc753-e399-4599-a065-9dbcc627d75a",
   "metadata": {
    "tags": []
   },
   "source": [
    "Si comparamos los tiempos de ejecución tenemos:"
   ]
  },
  {
   "cell_type": "code",
   "execution_count": null,
   "id": "57d44cf5-4f96-448e-b8b9-ead5f41bd680",
   "metadata": {
    "tags": []
   },
   "outputs": [],
   "source": [
    "# Definamos unas matrices más grandes\n",
    "x1 = np.random.rand(1000, 1000)\n",
    "x2 = np.random.rand(1000, 1000)"
   ]
  },
  {
   "cell_type": "code",
   "execution_count": null,
   "id": "9e06a590-b523-469e-8c91-2ccd580f6e60",
   "metadata": {},
   "outputs": [],
   "source": [
    "# Veamos el caso manual\n",
    "%timeit multiplicacion_elementos(x1, x2)"
   ]
  },
  {
   "cell_type": "code",
   "execution_count": null,
   "id": "9b135626-cf09-42ee-960c-61ff79652921",
   "metadata": {},
   "outputs": [],
   "source": [
    "# Veamos el caso simplificado\n",
    "%timeit x1 * x2"
   ]
  },
  {
   "cell_type": "code",
   "execution_count": null,
   "id": "7b5075ba-e7e2-448d-9e77-8a5a0e7ab9b8",
   "metadata": {},
   "outputs": [],
   "source": [
    "# Veamos con la función de numpy\n",
    "%timeit np.multiply(x1, x2)"
   ]
  },
  {
   "cell_type": "markdown",
   "id": "8e2f0be1-6b79-4b85-99e7-86e629bab6ff",
   "metadata": {},
   "source": [
    "## Multiplicación de matrices\n",
    "\n",
    "- Producto matricial:\n",
    "\n",
    "![](img/matmult.png)\n"
   ]
  },
  {
   "cell_type": "code",
   "execution_count": null,
   "id": "2e8de3d6-5e89-4cf2-aa6e-77db2d242b49",
   "metadata": {
    "tags": []
   },
   "outputs": [],
   "source": [
    "np.matmul(array1, array2)"
   ]
  },
  {
   "cell_type": "markdown",
   "id": "066371c1-b6a1-4652-a2d8-637d6e5b6aa9",
   "metadata": {},
   "source": [
    "Lo anterior lo podemos simplificar utilizando **@**:"
   ]
  },
  {
   "cell_type": "code",
   "execution_count": null,
   "id": "6b6320b6-c33d-49f6-913e-f1d24bf69370",
   "metadata": {
    "tags": []
   },
   "outputs": [],
   "source": [
    "array1 @ array2"
   ]
  },
  {
   "cell_type": "markdown",
   "id": "e471e94e-0a9e-41bc-94ba-ab5e1e3a9630",
   "metadata": {
    "tags": []
   },
   "source": [
    "- Producto punto\n",
    "\n",
    "![](img/dotproduct.png)"
   ]
  },
  {
   "cell_type": "code",
   "execution_count": null,
   "id": "c8cfd616-09ee-4490-99ab-5f1c38ba749f",
   "metadata": {
    "tags": []
   },
   "outputs": [],
   "source": [
    "np.dot([1, 2, 3], [1, 2, 3])"
   ]
  },
  {
   "cell_type": "markdown",
   "id": "fcf69b9f-9575-4748-9152-4ed32da9226f",
   "metadata": {
    "tags": []
   },
   "source": [
    "> **Nota**: Cuando utilizamos dos arreglos de mxn en lugar de dos vectores, *np.dot* utiliza *np.matmult*:"
   ]
  },
  {
   "cell_type": "code",
   "execution_count": null,
   "id": "d8e1912d-9156-4d3c-af13-f889c4b89008",
   "metadata": {},
   "outputs": [],
   "source": [
    "np.dot(array1, array2)"
   ]
  },
  {
   "cell_type": "markdown",
   "id": "f78650d7-1286-4a6e-bf60-2b3a2d6b5c4b",
   "metadata": {},
   "source": [
    "- Números complejos con matrices\n",
    "\n",
    "Para expresar un número imaginario lo podemos hacer mediante dos componentes, la real y la imaginaria:\n",
    "\n",
    "```python\n",
    "numero_complejo = 3+2j\n",
    "```"
   ]
  },
  {
   "cell_type": "code",
   "execution_count": null,
   "id": "3dad8a5e-06b5-4973-93ae-74d2728953ea",
   "metadata": {},
   "outputs": [],
   "source": [
    "# Suma de dos números complejos\n",
    "(3+2j) + (1-3j)"
   ]
  },
  {
   "cell_type": "code",
   "execution_count": null,
   "id": "da0bf933-c917-46b6-b737-68f5a83646dc",
   "metadata": {},
   "outputs": [],
   "source": [
    "# Suma de vectores con numeros complejos\n",
    "np.array([3+2j, 3]) + np.array([-4j, -4+1j])"
   ]
  },
  {
   "cell_type": "code",
   "execution_count": null,
   "id": "a065f33c-db74-4fd2-8070-d5de9f31c1b3",
   "metadata": {
    "tags": []
   },
   "outputs": [],
   "source": [
    "# Producto punto (complex-conjugated)\n",
    "np.dot([3+2j, 2j], [-1, -3j])"
   ]
  },
  {
   "cell_type": "code",
   "execution_count": null,
   "id": "92a4e553-e369-45ac-93be-933ad517d9c7",
   "metadata": {},
   "outputs": [],
   "source": [
    "# Obtener parte real de un número\n",
    "np.real(3+2j)"
   ]
  },
  {
   "cell_type": "code",
   "execution_count": null,
   "id": "c9f7512a-13f7-4d8f-858b-2d8f64724574",
   "metadata": {},
   "outputs": [],
   "source": [
    "# Obtener parte imaginaria de un número\n",
    "np.imag(3+2j)"
   ]
  },
  {
   "cell_type": "markdown",
   "id": "dafd6a84-44e8-4fde-8319-cc1459f9c463",
   "metadata": {},
   "source": [
    "## Otras operaciones algebráicas\n",
    "\n",
    "- Inversa de una matriz:\n",
    "\n",
    "La matriz inversa para una matriz A cuadrada de nxn es aquella que cumple con:\n",
    "\n",
    "$$ A * A^{-1} = A^{-1} * A = I $$"
   ]
  },
  {
   "cell_type": "code",
   "execution_count": null,
   "id": "a3560719-8e1d-4a11-a908-e1095164f2ea",
   "metadata": {},
   "outputs": [],
   "source": [
    "linalg.inv(array1)"
   ]
  },
  {
   "cell_type": "markdown",
   "id": "b574e4b8-6c53-417f-a24e-a5380aac8ee3",
   "metadata": {},
   "source": [
    "- Determinante de una matriz:"
   ]
  },
  {
   "cell_type": "code",
   "execution_count": null,
   "id": "edfe9b86-d7c3-4e85-976d-59d83ef2da8b",
   "metadata": {},
   "outputs": [],
   "source": [
    "linalg.det(array1)"
   ]
  },
  {
   "cell_type": "markdown",
   "id": "80cd4e33-1ce7-4d84-a162-eba4a20c8cdd",
   "metadata": {},
   "source": [
    "- Transpuesta de una matriz:"
   ]
  },
  {
   "cell_type": "code",
   "execution_count": null,
   "id": "8f11fa77-fc13-4ba0-8966-927caae5f368",
   "metadata": {},
   "outputs": [],
   "source": [
    "np.transpose(array1)"
   ]
  },
  {
   "cell_type": "code",
   "execution_count": null,
   "id": "bd95d4d2-4eed-4b7d-8c4d-9d3d06d071fc",
   "metadata": {},
   "outputs": [],
   "source": [
    "array1.transpose()"
   ]
  },
  {
   "cell_type": "code",
   "execution_count": null,
   "id": "f4bd0010-218c-4c1d-b462-f1ce3003c90b",
   "metadata": {},
   "outputs": [],
   "source": [
    "array1.T"
   ]
  },
  {
   "cell_type": "markdown",
   "id": "26ac7fb2-f65f-4650-a6cd-74f12ef4071d",
   "metadata": {},
   "source": [
    "## Solución de un sistema de ecuaciones lineales:\n",
    "\n",
    "Imaginemos que tenemos el siguiente sistema de ecuaciones\n",
    "\n",
    "$$x0 + 2 * x1 = 1$$\n",
    "$$3 * x0 + 5 * x1 = 2$$\n",
    "\n",
    "Para representarlo matricial mente tendríamos:\n",
    "\n",
    "$$ A *  x = b $$"
   ]
  },
  {
   "cell_type": "code",
   "execution_count": null,
   "id": "15c7701b-a6ec-4ec1-a916-1a4485b3cb68",
   "metadata": {},
   "outputs": [],
   "source": [
    "A = np.array([[1, 2], [3, 5]])\n",
    "A"
   ]
  },
  {
   "cell_type": "code",
   "execution_count": null,
   "id": "77cfe6fb-ebf6-42c7-b70e-a776e6c271fb",
   "metadata": {},
   "outputs": [],
   "source": [
    "b = np.array([1, 2])\n",
    "b"
   ]
  },
  {
   "cell_type": "code",
   "execution_count": null,
   "id": "bb717037-33f8-4a0f-8043-8f45cd769bdc",
   "metadata": {},
   "outputs": [],
   "source": [
    "x = linalg.solve(A, b)\n",
    "x"
   ]
  },
  {
   "cell_type": "code",
   "execution_count": null,
   "id": "b598777f-b78e-4b2c-9806-feae1a4a37a1",
   "metadata": {},
   "outputs": [],
   "source": [
    "# Otra forma de resolver el sistema es\n",
    "linalg.inv(A) @ b"
   ]
  },
  {
   "cell_type": "code",
   "execution_count": null,
   "id": "864c2e43-fa1f-40e3-bc08-78e7a3ff28fa",
   "metadata": {},
   "outputs": [],
   "source": [
    "# Para validar que nuestro resultado es correcto podemos usar\n",
    "x = linalg.solve(A, b)\n",
    "np.dot(A, x)"
   ]
  },
  {
   "cell_type": "code",
   "execution_count": null,
   "id": "595d8f4d-0f33-45f9-9917-86432be4729b",
   "metadata": {},
   "outputs": [],
   "source": [
    "# O tambien podemos comparar los dos vectores\n",
    "np.allclose(np.dot(A, x), b)"
   ]
  },
  {
   "cell_type": "markdown",
   "id": "a22bec44-d110-47f5-8045-bd80a6aaa704",
   "metadata": {},
   "source": [
    "## Matrices esparcidas\n",
    "\n",
    "Una matriz dispersa (sparse matrix) es una matriz de gran tamaño en la que la mayor parte de sus elementos son cero.\n",
    "\n",
    "Con matrices de gran tamaño los métodos tradicionales para almacenar la matriz en la memoria de una computadora o para la resolución de sistemas de ecuaciones lineales necesitan una gran cantidad de memoria y de tiempo de proceso. Se han diseñado algoritmos específicos para estos fines cuando las matrices son dispersas.\n",
    "\n",
    "En Python, los algoritmos para trabajar con matrices esparcidas se encuentran en el submódulo sparse de la librería [Scipy](https://docs.scipy.org/doc/scipy/reference/sparse.html)."
   ]
  },
  {
   "cell_type": "code",
   "execution_count": null,
   "id": "0eb0b922-c168-4c37-9516-4db6ec71d01f",
   "metadata": {
    "tags": []
   },
   "outputs": [],
   "source": [
    "from scipy import sparse as sp\n",
    "from scipy.sparse.linalg import spsolve"
   ]
  },
  {
   "cell_type": "markdown",
   "id": "47aea803-0e73-4b15-b21d-8a548da21fd3",
   "metadata": {},
   "source": [
    "Hay varias formas de definir una matriz esparcida con Scipy:\n",
    "\n",
    "- csc_matrix: Compressed Sparse Column format\n",
    "- csr_matrix: Compressed Sparse Row format\n",
    "- bsr_matrix: Block Sparse Row format\n",
    "- lil_matrix: List of Lists format\n",
    "- dok_matrix: Dictionary of Keys format\n",
    "- coo_matrix: COOrdinate format (aka IJV, triplet format)\n",
    "- dia_matrix: DIAgonal format\n",
    "\n",
    "Cada uno de los formatos anteriores se construye de forma distinta, ya sea indicando renglones y columnas, ingresando los datos por bloques, o mediante sus coordenadas.\n",
    "\n",
    "Algunos de esos formatos son compatibles con algoritmos de Numpy, pero otros requieren que se realicen transformaciones previas.\n",
    "\n",
    "- Creando matrices esparcidas\n",
    "\n",
    "Veamos un ejemplo con una matriz crs:"
   ]
  },
  {
   "cell_type": "code",
   "execution_count": null,
   "id": "fbfc36fd-fded-4db2-a8cf-f4367171cdf1",
   "metadata": {},
   "outputs": [],
   "source": [
    "A = sp.csr_matrix([[1, 2, 0], [0, 0, 3], [4, 0, 5]])\n",
    "A"
   ]
  },
  {
   "cell_type": "code",
   "execution_count": null,
   "id": "585252e0-db13-4074-a320-97d473456d2f",
   "metadata": {},
   "outputs": [],
   "source": [
    "# creamos un vector con numpy y multiplicamos nuestra informacion\n",
    "v = np.array([1, 0, -1])\n",
    "A.dot(v)"
   ]
  },
  {
   "cell_type": "markdown",
   "id": "17b64f00-59fe-4cd3-b206-3f539ea83ebe",
   "metadata": {},
   "source": [
    "Noten que en este caso no es igual si se usa:"
   ]
  },
  {
   "cell_type": "code",
   "execution_count": null,
   "id": "92e4b57c-e277-436d-a6b4-4eae08d6a321",
   "metadata": {},
   "outputs": [],
   "source": [
    "np.dot(A, v)"
   ]
  },
  {
   "cell_type": "markdown",
   "id": "9a46057b-b5ec-4f3f-8c2c-96f7d5340c98",
   "metadata": {},
   "source": [
    "También, si queremos ver nuestra matriz esparcida en un formato de Numpy usamos:"
   ]
  },
  {
   "cell_type": "code",
   "execution_count": null,
   "id": "4fa7fc73-2fee-4e5e-b714-a236811b9d5a",
   "metadata": {},
   "outputs": [],
   "source": [
    "A.toarray()"
   ]
  },
  {
   "cell_type": "markdown",
   "id": "4bdb85b5-3254-4077-aad2-ade832c72f06",
   "metadata": {},
   "source": [
    "¿Qué beneficios nos aporta una matriz esparcida? Básicamente que se reduce el tamaño de almacenamiento de la matriz en la memoria, y mientras mayor sea la matriz, mayor será el ahorro:"
   ]
  },
  {
   "cell_type": "code",
   "execution_count": null,
   "id": "fc8181dc-fb93-4841-89e6-e2be15101d07",
   "metadata": {},
   "outputs": [],
   "source": [
    "# obtener el tamaño de matriz esparcida en bytes\n",
    "A.__sizeof__()"
   ]
  },
  {
   "cell_type": "code",
   "execution_count": null,
   "id": "57b8c3ca-714f-44d9-a906-38f4cf143a87",
   "metadata": {},
   "outputs": [],
   "source": [
    "# convertir la matriz esparcida a matriz de numpy y obtener su tamaño en bytes\n",
    "A.toarray().__sizeof__()"
   ]
  },
  {
   "cell_type": "markdown",
   "id": "8e5dbfc3-7765-48ca-a61c-e5b277ade87c",
   "metadata": {},
   "source": [
    "Y así como podemos pasar de una matriz esparcida a una de Numpy, se puede hacer el proceso inverso:"
   ]
  },
  {
   "cell_type": "code",
   "execution_count": null,
   "id": "ba53e96c-d8a9-4ad6-bca9-21e39f5f0ad1",
   "metadata": {},
   "outputs": [],
   "source": [
    "x = np.array([[1, 2, 0], [0, 0, 3], [4, 0, 5]])\n",
    "x"
   ]
  },
  {
   "cell_type": "code",
   "execution_count": null,
   "id": "2c650135-c911-4a1c-a5cf-ce9d4fada8d1",
   "metadata": {},
   "outputs": [],
   "source": [
    "# convertir a matriz esparcida con formato csr\n",
    "sp.csr_matrix(x)"
   ]
  },
  {
   "cell_type": "markdown",
   "id": "20b0918c-1d61-4037-9bb7-d6f2f1425ffe",
   "metadata": {},
   "source": [
    "- Sistemas de ecuaciones con matrices esparcidas\n",
    "\n",
    "La matriz de coeficientes en los sistemas de ecuaciones lineales en métodos de diferencias finitas es una candidata a ser manipulada como una matriz esparcida, debido a que muy pocos elementos suelen tener valores distintos de ceros.\n",
    "\n",
    "Para crear esta matriz se recomienda utilizar una *lil_matrix*, indicando los renglones y columnas, y luego guardando los coeficientes según su renglón y columna:"
   ]
  },
  {
   "cell_type": "code",
   "execution_count": null,
   "id": "3a22717a-d4ee-4b0c-a3d7-91e2ac024ee1",
   "metadata": {},
   "outputs": [],
   "source": [
    "A = sp.lil_matrix((1000, 1000))"
   ]
  },
  {
   "cell_type": "code",
   "execution_count": null,
   "id": "5c202c1f-889c-4da6-a429-7a8b3b931b59",
   "metadata": {},
   "outputs": [],
   "source": [
    "A[0, :100] = np.random.rand(100)  # guardar valores aleatorios \n",
    "A[1, 100:200] = A[0, :100]\n",
    "A.setdiag(np.random.rand(1000))"
   ]
  },
  {
   "cell_type": "markdown",
   "id": "257bd558-20ba-459b-9ab1-0157d2327404",
   "metadata": {},
   "source": [
    "Vamos a visualizar nuestra matriz para ver cómo está llenada:"
   ]
  },
  {
   "cell_type": "code",
   "execution_count": null,
   "id": "5e9550b6-971d-45ca-9d14-0cecc1102da5",
   "metadata": {},
   "outputs": [],
   "source": [
    "import matplotlib.pyplot as plt"
   ]
  },
  {
   "cell_type": "code",
   "execution_count": null,
   "id": "754cb354-f52f-4b45-a9ff-12bbf2c7d9be",
   "metadata": {},
   "outputs": [],
   "source": [
    "plt.spy(A)"
   ]
  },
  {
   "cell_type": "markdown",
   "id": "d70cdf96-e2bc-4293-96c5-a9c98856db07",
   "metadata": {},
   "source": [
    "Intentemos resolver un sistema de ecuaciones con esta matriz esparcida:"
   ]
  },
  {
   "cell_type": "code",
   "execution_count": null,
   "id": "a8c72e03-db6b-40d2-9af0-6480584f47a7",
   "metadata": {},
   "outputs": [],
   "source": [
    "b = np.random.rand(1000)"
   ]
  },
  {
   "cell_type": "code",
   "execution_count": null,
   "id": "4b6480e8-b663-4577-9c60-af577616227e",
   "metadata": {},
   "outputs": [],
   "source": [
    "spsolve(A, b)"
   ]
  },
  {
   "cell_type": "markdown",
   "id": "4b435ba3-8963-4f1e-9b82-55b867ea737a",
   "metadata": {},
   "source": [
    "> **NOTA**: nos marca una advertencia debido a que las matrices *lil_matrix* no se pueden utilizar para estos propósitos, se necesita transformar a una matriz *csr_matrix*."
   ]
  },
  {
   "cell_type": "code",
   "execution_count": null,
   "id": "2f37fdb5-b847-4ad1-839c-3f29ad2df5ba",
   "metadata": {},
   "outputs": [],
   "source": [
    "spsolve(A.tocsr(), b)"
   ]
  },
  {
   "cell_type": "markdown",
   "id": "0c2bc9e9-348b-4934-8951-54cbf1135b7f",
   "metadata": {},
   "source": [
    "Podemos comprobar que da lo mismo si convertimos la matriz esparcida a una matriz normal de Numpy:"
   ]
  },
  {
   "cell_type": "code",
   "execution_count": null,
   "id": "14f156a3-33fd-4fa5-bab2-8d69ef9ee65c",
   "metadata": {},
   "outputs": [],
   "source": [
    "np.linalg.solve(A.toarray(), b)"
   ]
  },
  {
   "cell_type": "code",
   "execution_count": null,
   "id": "678a478e-05a6-4b8f-ab24-9b72146a3564",
   "metadata": {},
   "outputs": [],
   "source": [
    "# calculemos el error de las dos estimaciones\n",
    "xs = spsolve(A.tocsr(), b)            # resuelto con matrices esparcidas\n",
    "xn = np.linalg.solve(A.toarray(), b)  # resuelto con matrices de numpy\n",
    "error = np.sum(np.abs(xs - xn))\n",
    "error"
   ]
  },
  {
   "cell_type": "markdown",
   "id": "d65f99bb-5d7c-48fe-a97e-0d04e61d4e80",
   "metadata": {},
   "source": [
    "## Ejemplo de un modelo numérico con matrices esparcidas\n",
    "\n",
    "Para este ejemplo resolvemos el flujo subterráneo en 2D en un acuífero confinado, descrito por la ecuación de conservación de masa y la Ley de Darcy:\n",
    "\n",
    "$$ Ss \\frac{\\delta h}{\\delta t} -f =  \\frac{\\delta}{\\delta x} \\left ( Tx \\frac{\\delta h}{\\delta x} \\right ) + \\frac{\\delta}{\\delta y} \\left ( Ty \\frac{\\delta h}{\\delta y} \\right )$$"
   ]
  },
  {
   "cell_type": "code",
   "execution_count": null,
   "id": "d89ca70b-4409-4e6f-92af-0ae3a27477eb",
   "metadata": {},
   "outputs": [],
   "source": [
    "import numpy as np\n",
    "from scipy.sparse import lil_matrix\n",
    "from scipy.sparse.linalg import spsolve\n",
    "import matplotlib.pyplot as plt\n",
    "\n",
    "# Variables de entrada\n",
    "x = np.full(40, 20)  # ancho de bloques en x\n",
    "y = np.full(60, 20)  # ancho de bloques en y\n",
    "\n",
    "nx = len(x)  # numero de columnas\n",
    "ny = len(y)  # numero de renglones\n",
    "Ho = np.ones((ny,nx))*-1  # matriz cargas\n",
    "w = np.zeros((ny,nx))     # matriz de recarga o extraccion\n",
    "dx = np.zeros((ny,nx))    # ancho de bloques\n",
    "dy = np.zeros((ny,nx))    # largo de bloques\n",
    "Tx = np.zeros((ny,nx))    # transmisividad de bloques direccion x\n",
    "Ty = np.zeros((ny,nx))    # transmisividad de bloques direccion y\n",
    "\n",
    "# Asignar valores de carga\n",
    "Ho[0,:] = 0.2  # primer renglon, carga 0.2\n",
    "Ho[-1,:]= 0.0  # último renglon, carga cero \n",
    "\n",
    "# Asignar incrementos de malla\n",
    "for i in range(nx):\n",
    "    dx[:,i] = x[i]\n",
    "for i in range(ny):\n",
    "    dy[i,:] = y[i]\n",
    "\n",
    "# Asignar recarga\n",
    "w[2:4,2:4] = 1.27e-6\n",
    "\n",
    "# Asignar transmisividad\n",
    "Tx[:,:] = 0.0015\n",
    "Tx[4:7,0:3] = 0.0008\n",
    "Ty[:,:] = 0.0015\n",
    "Ty[4:7,0:3] = 0.0008\n",
    "\n",
    "# Calcular transmisividad interbloques\n",
    "Tx0=np.zeros((ny,nx)) \n",
    "Tx2=np.zeros((ny,nx))\n",
    "Ty0=np.zeros((ny,nx)) \n",
    "Ty2=np.zeros((ny,nx))\n",
    "for i in range(1,nx):\n",
    "    Tx0[:,i]=2*Tx[:,i]*Tx[:,i-1]/(dx[:,i]*Tx[:,i-1]+dx[:,i-1]*Tx[:,i])/dx[:,i]        \n",
    "    Tx2[:,i-1]=2*Tx[:,i]*Tx[:,i-1]/(dx[:,i]*Tx[:,i-1]+dx[:,i-1]*Tx[:,i])/dx[:,i-1]\n",
    "for i in range(1,ny):\n",
    "    Ty0[i,:]=2*Ty[i,:]*Ty[i-1,:]/(dy[i,:]*Ty[i-1,:]+dy[i-1,:]*Ty[i,:])/dy[i,:]        \n",
    "    Ty2[i-1,:]=2*Ty[i,:]*Ty[i-1,:]/(dy[i,:]*Ty[i-1,:]+dy[i-1,:]*Ty[i,:])/dy[i-1,:]       \n",
    "    \n",
    "# Numerar nodos\n",
    "Nid=np.ones((nx*ny,4),dtype=int)*-1 #indices de los nodos\n",
    "Nid[:,0]=np.arange(0,nx*ny) #numerar nodos\n",
    "c,r=np.where(np.transpose(Ho==Ho)) #obtener coordenadas de los elementos\n",
    "ij=np.array([r,c])\n",
    "Nid[:,2]=ij[0] #renglon i dentro de la matriz\n",
    "Nid[:,3]=ij[1] #columna j dentro de la matriz\n",
    "\n",
    "#Tx0,Tx2,Ty0,Ty2,H,w\n",
    "N=np.zeros((nx*ny,6),dtype=float) #elementos de los nodos\n",
    "N[:,0]=Tx0[ij[0],ij[1]]\n",
    "N[:,1]=Tx2[ij[0],ij[1]]\n",
    "N[:,2]=Ty0[ij[0],ij[1]]\n",
    "N[:,3]=Ty2[ij[0],ij[1]]\n",
    "N[:,4]=Ho[ij[0],ij[1]]\n",
    "N[:,5]=w[ij[0],ij[1]]\n",
    "n=np.where(np.transpose(N[:,4]<0)) #nodos por resolver\n",
    "n=n[0]\n",
    "nnod=len(n) #numero de nodos por resolver\n",
    "Nid[n,1]=np.arange(0,nnod,dtype=int)\n",
    "del dx,dy,w,Tx,Ty\n",
    "\n",
    "# Sistema de ecuaciones\n",
    "# Generar sistema de ecuaciones\n",
    "A=lil_matrix((nnod,nnod)) #matriz de coeficientes (Row-based list of lists sparse matrix)\n",
    "B=np.zeros(nnod) #matriz de terminos independientes\n",
    "for i in range(nnod):\n",
    "    nij=n[i] #nodo central\n",
    "    B[i]=B[i]-N[nij,5] #recarga o evapotranspiracion\n",
    "    #nodo izquierdo\n",
    "    if Nid[nij,3]>0: #nodo de borde izquierdo\n",
    "        A[i,i]=A[i,i]-N[nij,0]\n",
    "        if Nid[Nid[nij,0]-ny,1]==-1: #Carga establecida\n",
    "            B[i]=B[i]-N[nij,0]*N[Nid[nij,0]-ny,4]\n",
    "        else: #Carga izquierda por calcular\n",
    "            A[i,Nid[Nid[nij,0]-ny,1]]=N[nij,0]\n",
    "    #nodo derecho\n",
    "    if Nid[nij,3]<nx-1: #nodo de borde izquierdo\n",
    "        A[i,i]=A[i,i]-N[nij,1]\n",
    "        if Nid[Nid[nij,0]+ny,1]==-1: #Carga establecida\n",
    "            B[i]=B[i]-N[nij,1]*N[Nid[nij,0]+ny,4]\n",
    "        else: #Carga izquierda por calcular\n",
    "            A[i,Nid[Nid[nij,0]+ny,1]]=N[nij,1]\n",
    "    #nodo superior\n",
    "    if Nid[nij,2]>0: #nodo de borde superior\n",
    "        A[i,i]=A[i,i]-N[nij,2]\n",
    "        if Nid[Nid[nij,0]-1,1]==-1: #Carga establecida\n",
    "            B[i]=B[i]-N[nij,2]*N[Nid[nij,0]-1,4]\n",
    "        else: #Carga superior por calcular\n",
    "            A[i,Nid[Nid[nij,0]-1,1]]=N[nij,2]\n",
    "    #nodo inferior\n",
    "    if Nid[nij,2]<ny-1: #nodo de borde inferior\n",
    "        A[i,i]=A[i,i]-N[nij,3]\n",
    "        if Nid[Nid[nij,0]+1,1]==-1: #Carga establecida\n",
    "            B[i]=B[i]-N[nij,3]*N[Nid[nij,0]+1,4]\n",
    "        else: #Carga superior por calcular\n",
    "            A[i,Nid[Nid[nij,0]+1,1]]=N[nij,3]\n",
    "#Resolver sistema de ecuaciones\n",
    "A=A.tocsr()  # Convert this matrix to Compressed Sparse Row format\n",
    "h=spsolve(A,B)\n",
    "#Acomodar cargas calculadas\n",
    "Ho[ij[0][n],ij[1][n]]=h\n",
    "\n",
    "#Graficar\n",
    "fig, ax = plt.subplots(figsize=(5, 10))\n",
    "p = ax.imshow(Ho)\n",
    "plt.show()"
   ]
  },
  {
   "cell_type": "code",
   "execution_count": null,
   "id": "797923e7-5d8b-4f1c-9072-a9628046c9e4",
   "metadata": {},
   "outputs": [],
   "source": []
  }
 ],
 "metadata": {
  "kernelspec": {
   "display_name": "Python 3 (ipykernel)",
   "language": "python",
   "name": "python3"
  },
  "language_info": {
   "codemirror_mode": {
    "name": "ipython",
    "version": 3
   },
   "file_extension": ".py",
   "mimetype": "text/x-python",
   "name": "python",
   "nbconvert_exporter": "python",
   "pygments_lexer": "ipython3",
   "version": "3.9.10"
  }
 },
 "nbformat": 4,
 "nbformat_minor": 5
}
